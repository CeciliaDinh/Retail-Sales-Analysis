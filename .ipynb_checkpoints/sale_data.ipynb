{
 "cells": [
  {
   "cell_type": "markdown",
   "metadata": {},
   "source": [
    "### A Data-Driven Analysis Of Retail Sales "
   ]
  },
  {
   "cell_type": "markdown",
   "metadata": {},
   "source": [
    "### Author: DINH THI THANH HANG\n",
    "### Project's Description: \n",
    "- This project focuses on maximizing the profitability of an online retail store through data-driven insights. By analyzing sales data, we aim to:\n",
    "\n",
    "- Assess the effectiveness of discount vouchers on overall revenue and profit.\n",
    "- Identify high-value product lines and seasonal trends to optimize inventory management.\n",
    "- Segment customers based on demographics and purchasing behavior to evaluate their lifetime value.\n",
    "- Develop personalized marketing and loyalty campaigns tailored to different customer segments.\n",
    "- Optimize the product portfolio by prioritizing the 20% of products that contribute to 80% of the total profit (Pareto Principle).\n",
    "- Through these insights, the project aims to enhance revenue, improve customer retention, and streamline business strategies for long-term growth."
   ]
  },
  {
   "cell_type": "markdown",
   "metadata": {},
   "source": [
    "### General Imports"
   ]
  },
  {
   "cell_type": "code",
   "execution_count": 352,
   "metadata": {},
   "outputs": [],
   "source": [
    "import pandas as pd\n",
    "import numpy as np\n",
    "import matplotlib.pyplot as plt\n",
    "import seaborn as sns\n",
    "from sklearn.cluster import KMeans"
   ]
  },
  {
   "cell_type": "code",
   "execution_count": 353,
   "metadata": {},
   "outputs": [
    {
     "name": "stdout",
     "output_type": "stream",
     "text": [
      "Requirement already satisfied: chardet in c:\\users\\tanvu\\anaconda3\\lib\\site-packages (4.0.0)\n"
     ]
    }
   ],
   "source": [
    "# import chardet \n",
    "!pip install chardet"
   ]
  },
  {
   "cell_type": "code",
   "execution_count": 354,
   "metadata": {},
   "outputs": [
    {
     "name": "stdout",
     "output_type": "stream",
     "text": [
      "{'encoding': 'Windows-1252', 'confidence': 0.73, 'language': ''}\n"
     ]
    }
   ],
   "source": [
    "# dectect encoding format of the file\n",
    "import chardet\n",
    "with open('sale_data.csv', 'rb') as f:\n",
    "    result = chardet.detect(f.read())\n",
    "print(result)\n"
   ]
  },
  {
   "cell_type": "code",
   "execution_count": 355,
   "metadata": {},
   "outputs": [
    {
     "data": {
      "text/html": [
       "<div>\n",
       "<style scoped>\n",
       "    .dataframe tbody tr th:only-of-type {\n",
       "        vertical-align: middle;\n",
       "    }\n",
       "\n",
       "    .dataframe tbody tr th {\n",
       "        vertical-align: top;\n",
       "    }\n",
       "\n",
       "    .dataframe thead th {\n",
       "        text-align: right;\n",
       "    }\n",
       "</style>\n",
       "<table border=\"1\" class=\"dataframe\">\n",
       "  <thead>\n",
       "    <tr style=\"text-align: right;\">\n",
       "      <th></th>\n",
       "      <th>Row ID</th>\n",
       "      <th>Order ID</th>\n",
       "      <th>Order Date</th>\n",
       "      <th>Ship Date</th>\n",
       "      <th>Ship Mode</th>\n",
       "      <th>Customer ID</th>\n",
       "      <th>Customer Name</th>\n",
       "      <th>Segment</th>\n",
       "      <th>Country</th>\n",
       "      <th>City</th>\n",
       "      <th>...</th>\n",
       "      <th>Postal Code</th>\n",
       "      <th>Region</th>\n",
       "      <th>Product ID</th>\n",
       "      <th>Category</th>\n",
       "      <th>Sub-Category</th>\n",
       "      <th>Product Name</th>\n",
       "      <th>Sales</th>\n",
       "      <th>Quantity</th>\n",
       "      <th>Discount</th>\n",
       "      <th>Profit</th>\n",
       "    </tr>\n",
       "  </thead>\n",
       "  <tbody>\n",
       "    <tr>\n",
       "      <th>0</th>\n",
       "      <td>1</td>\n",
       "      <td>CA-2016-152156</td>\n",
       "      <td>11/8/2016</td>\n",
       "      <td>11/11/2016</td>\n",
       "      <td>Second Class</td>\n",
       "      <td>CG-12520</td>\n",
       "      <td>Claire Gute</td>\n",
       "      <td>Consumer</td>\n",
       "      <td>United States</td>\n",
       "      <td>Henderson</td>\n",
       "      <td>...</td>\n",
       "      <td>42420</td>\n",
       "      <td>South</td>\n",
       "      <td>FUR-BO-10001798</td>\n",
       "      <td>Furniture</td>\n",
       "      <td>Bookcases</td>\n",
       "      <td>Bush Somerset Collection Bookcase</td>\n",
       "      <td>261.9600</td>\n",
       "      <td>2</td>\n",
       "      <td>0.00</td>\n",
       "      <td>41.9136</td>\n",
       "    </tr>\n",
       "    <tr>\n",
       "      <th>1</th>\n",
       "      <td>2</td>\n",
       "      <td>CA-2016-152156</td>\n",
       "      <td>11/8/2016</td>\n",
       "      <td>11/11/2016</td>\n",
       "      <td>Second Class</td>\n",
       "      <td>CG-12520</td>\n",
       "      <td>Claire Gute</td>\n",
       "      <td>Consumer</td>\n",
       "      <td>United States</td>\n",
       "      <td>Henderson</td>\n",
       "      <td>...</td>\n",
       "      <td>42420</td>\n",
       "      <td>South</td>\n",
       "      <td>FUR-CH-10000454</td>\n",
       "      <td>Furniture</td>\n",
       "      <td>Chairs</td>\n",
       "      <td>Hon Deluxe Fabric Upholstered Stacking Chairs,...</td>\n",
       "      <td>731.9400</td>\n",
       "      <td>3</td>\n",
       "      <td>0.00</td>\n",
       "      <td>219.5820</td>\n",
       "    </tr>\n",
       "    <tr>\n",
       "      <th>2</th>\n",
       "      <td>3</td>\n",
       "      <td>CA-2016-138688</td>\n",
       "      <td>6/12/2016</td>\n",
       "      <td>6/16/2016</td>\n",
       "      <td>Second Class</td>\n",
       "      <td>DV-13045</td>\n",
       "      <td>Darrin Van Huff</td>\n",
       "      <td>Corporate</td>\n",
       "      <td>United States</td>\n",
       "      <td>Los Angeles</td>\n",
       "      <td>...</td>\n",
       "      <td>90036</td>\n",
       "      <td>West</td>\n",
       "      <td>OFF-LA-10000240</td>\n",
       "      <td>Office Supplies</td>\n",
       "      <td>Labels</td>\n",
       "      <td>Self-Adhesive Address Labels for Typewriters b...</td>\n",
       "      <td>14.6200</td>\n",
       "      <td>2</td>\n",
       "      <td>0.00</td>\n",
       "      <td>6.8714</td>\n",
       "    </tr>\n",
       "    <tr>\n",
       "      <th>3</th>\n",
       "      <td>4</td>\n",
       "      <td>US-2015-108966</td>\n",
       "      <td>10/11/2015</td>\n",
       "      <td>10/18/2015</td>\n",
       "      <td>Standard Class</td>\n",
       "      <td>SO-20335</td>\n",
       "      <td>Sean O'Donnell</td>\n",
       "      <td>Consumer</td>\n",
       "      <td>United States</td>\n",
       "      <td>Fort Lauderdale</td>\n",
       "      <td>...</td>\n",
       "      <td>33311</td>\n",
       "      <td>South</td>\n",
       "      <td>FUR-TA-10000577</td>\n",
       "      <td>Furniture</td>\n",
       "      <td>Tables</td>\n",
       "      <td>Bretford CR4500 Series Slim Rectangular Table</td>\n",
       "      <td>957.5775</td>\n",
       "      <td>5</td>\n",
       "      <td>0.45</td>\n",
       "      <td>-383.0310</td>\n",
       "    </tr>\n",
       "    <tr>\n",
       "      <th>4</th>\n",
       "      <td>5</td>\n",
       "      <td>US-2015-108966</td>\n",
       "      <td>10/11/2015</td>\n",
       "      <td>10/18/2015</td>\n",
       "      <td>Standard Class</td>\n",
       "      <td>SO-20335</td>\n",
       "      <td>Sean O'Donnell</td>\n",
       "      <td>Consumer</td>\n",
       "      <td>United States</td>\n",
       "      <td>Fort Lauderdale</td>\n",
       "      <td>...</td>\n",
       "      <td>33311</td>\n",
       "      <td>South</td>\n",
       "      <td>OFF-ST-10000760</td>\n",
       "      <td>Office Supplies</td>\n",
       "      <td>Storage</td>\n",
       "      <td>Eldon Fold 'N Roll Cart System</td>\n",
       "      <td>22.3680</td>\n",
       "      <td>2</td>\n",
       "      <td>0.20</td>\n",
       "      <td>2.5164</td>\n",
       "    </tr>\n",
       "  </tbody>\n",
       "</table>\n",
       "<p>5 rows × 21 columns</p>\n",
       "</div>"
      ],
      "text/plain": [
       "   Row ID        Order ID  Order Date   Ship Date       Ship Mode Customer ID  \\\n",
       "0       1  CA-2016-152156   11/8/2016  11/11/2016    Second Class    CG-12520   \n",
       "1       2  CA-2016-152156   11/8/2016  11/11/2016    Second Class    CG-12520   \n",
       "2       3  CA-2016-138688   6/12/2016   6/16/2016    Second Class    DV-13045   \n",
       "3       4  US-2015-108966  10/11/2015  10/18/2015  Standard Class    SO-20335   \n",
       "4       5  US-2015-108966  10/11/2015  10/18/2015  Standard Class    SO-20335   \n",
       "\n",
       "     Customer Name    Segment        Country             City  ...  \\\n",
       "0      Claire Gute   Consumer  United States        Henderson  ...   \n",
       "1      Claire Gute   Consumer  United States        Henderson  ...   \n",
       "2  Darrin Van Huff  Corporate  United States      Los Angeles  ...   \n",
       "3   Sean O'Donnell   Consumer  United States  Fort Lauderdale  ...   \n",
       "4   Sean O'Donnell   Consumer  United States  Fort Lauderdale  ...   \n",
       "\n",
       "  Postal Code  Region       Product ID         Category Sub-Category  \\\n",
       "0       42420   South  FUR-BO-10001798        Furniture    Bookcases   \n",
       "1       42420   South  FUR-CH-10000454        Furniture       Chairs   \n",
       "2       90036    West  OFF-LA-10000240  Office Supplies       Labels   \n",
       "3       33311   South  FUR-TA-10000577        Furniture       Tables   \n",
       "4       33311   South  OFF-ST-10000760  Office Supplies      Storage   \n",
       "\n",
       "                                        Product Name     Sales  Quantity  \\\n",
       "0                  Bush Somerset Collection Bookcase  261.9600         2   \n",
       "1  Hon Deluxe Fabric Upholstered Stacking Chairs,...  731.9400         3   \n",
       "2  Self-Adhesive Address Labels for Typewriters b...   14.6200         2   \n",
       "3      Bretford CR4500 Series Slim Rectangular Table  957.5775         5   \n",
       "4                     Eldon Fold 'N Roll Cart System   22.3680         2   \n",
       "\n",
       "   Discount    Profit  \n",
       "0      0.00   41.9136  \n",
       "1      0.00  219.5820  \n",
       "2      0.00    6.8714  \n",
       "3      0.45 -383.0310  \n",
       "4      0.20    2.5164  \n",
       "\n",
       "[5 rows x 21 columns]"
      ]
     },
     "execution_count": 355,
     "metadata": {},
     "output_type": "execute_result"
    }
   ],
   "source": [
    "# read data \n",
    "df= pd.read_csv('sale_data.csv', encoding='Windows-1252'\n",
    ")\n",
    "df.head()"
   ]
  },
  {
   "cell_type": "code",
   "execution_count": 356,
   "metadata": {},
   "outputs": [
    {
     "data": {
      "text/plain": [
       "Index(['Row ID', 'Order ID', 'Order Date', 'Ship Date', 'Ship Mode',\n",
       "       'Customer ID', 'Customer Name', 'Segment', 'Country', 'City', 'State',\n",
       "       'Postal Code', 'Region', 'Product ID', 'Category', 'Sub-Category',\n",
       "       'Product Name', 'Sales', 'Quantity', 'Discount', 'Profit'],\n",
       "      dtype='object')"
      ]
     },
     "execution_count": 356,
     "metadata": {},
     "output_type": "execute_result"
    }
   ],
   "source": [
    "# print out the columns we have\n",
    "df.columns"
   ]
  },
  {
   "cell_type": "code",
   "execution_count": 357,
   "metadata": {},
   "outputs": [
    {
     "name": "stdout",
     "output_type": "stream",
     "text": [
      "Row ID           [1, 2, 3, 4, 5, 6, 7, 8, 9, 10, 11, 12, 13, 14...\n",
      "Order ID         [CA-2016-152156, CA-2016-138688, US-2015-10896...\n",
      "Order Date       [11/8/2016, 6/12/2016, 10/11/2015, 6/9/2014, 4...\n",
      "Ship Date        [11/11/2016, 6/16/2016, 10/18/2015, 6/14/2014,...\n",
      "Ship Mode        [Second Class, Standard Class, First Class, Sa...\n",
      "Customer ID      [CG-12520, DV-13045, SO-20335, BH-11710, AA-10...\n",
      "Customer Name    [Claire Gute, Darrin Van Huff, Sean O'Donnell,...\n",
      "Segment                         [Consumer, Corporate, Home Office]\n",
      "Country                                            [United States]\n",
      "City             [Henderson, Los Angeles, Fort Lauderdale, Conc...\n",
      "State            [Kentucky, California, Florida, North Carolina...\n",
      "Postal Code      [42420, 90036, 33311, 90032, 28027, 98103, 761...\n",
      "Region                                [South, West, Central, East]\n",
      "Product ID       [FUR-BO-10001798, FUR-CH-10000454, OFF-LA-1000...\n",
      "Category                  [Furniture, Office Supplies, Technology]\n",
      "Sub-Category     [Bookcases, Chairs, Labels, Tables, Storage, F...\n",
      "Product Name     [Bush Somerset Collection Bookcase, Hon Deluxe...\n",
      "Sales            [261.96, 731.94, 14.62, 957.5775, 22.368, 48.8...\n",
      "Quantity           [2, 3, 5, 7, 4, 6, 9, 1, 8, 14, 11, 13, 10, 12]\n",
      "Discount         [0.0, 0.45, 0.2, 0.8, 0.3, 0.5, 0.7, 0.6, 0.32...\n",
      "Profit           [41.9136, 219.582, 6.8714, -383.031, 2.5164, 1...\n",
      "dtype: object\n"
     ]
    }
   ],
   "source": [
    "# select distinct values of each column \n",
    "# to see if there is any column that only has 1 value -> doesnt provide any insight for further analysis \n",
    "distinct_value= df.apply(lambda col: col.unique())\n",
    "print(distinct_value)"
   ]
  },
  {
   "cell_type": "markdown",
   "metadata": {},
   "source": [
    "### Dropping Unneccessary Columns \n",
    "- It is evident that, column Country shows us that all orders come from the same country which is the United States, and keeping this column won't result in any insights, so we'll drop it. \n",
    "- We will also drop column Postal Code, because it only displays the code of postal, and doesnt provide any details for further analysis "
   ]
  },
  {
   "cell_type": "code",
   "execution_count": 358,
   "metadata": {},
   "outputs": [],
   "source": [
    "# drop Country column \n",
    "df= df.drop( columns= ['Country','Postal Code'], axis=1)"
   ]
  },
  {
   "cell_type": "code",
   "execution_count": 359,
   "metadata": {},
   "outputs": [
    {
     "name": "stdout",
     "output_type": "stream",
     "text": [
      "<class 'pandas.core.frame.DataFrame'>\n",
      "RangeIndex: 9994 entries, 0 to 9993\n",
      "Data columns (total 19 columns):\n",
      " #   Column         Non-Null Count  Dtype  \n",
      "---  ------         --------------  -----  \n",
      " 0   Row ID         9994 non-null   int64  \n",
      " 1   Order ID       9994 non-null   object \n",
      " 2   Order Date     9994 non-null   object \n",
      " 3   Ship Date      9994 non-null   object \n",
      " 4   Ship Mode      9994 non-null   object \n",
      " 5   Customer ID    9994 non-null   object \n",
      " 6   Customer Name  9994 non-null   object \n",
      " 7   Segment        9994 non-null   object \n",
      " 8   City           9994 non-null   object \n",
      " 9   State          9994 non-null   object \n",
      " 10  Region         9994 non-null   object \n",
      " 11  Product ID     9994 non-null   object \n",
      " 12  Category       9994 non-null   object \n",
      " 13  Sub-Category   9994 non-null   object \n",
      " 14  Product Name   9994 non-null   object \n",
      " 15  Sales          9994 non-null   float64\n",
      " 16  Quantity       9994 non-null   int64  \n",
      " 17  Discount       9994 non-null   float64\n",
      " 18  Profit         9994 non-null   float64\n",
      "dtypes: float64(3), int64(2), object(14)\n",
      "memory usage: 1.4+ MB\n"
     ]
    }
   ],
   "source": [
    "# print out basic information of the dataset \n",
    "df.info()"
   ]
  },
  {
   "cell_type": "markdown",
   "metadata": {},
   "source": [
    "### Data Type Transformation\n",
    "- Order Date, Ship Date is a string, which doesnt allow the extraction of month, or day, to conduct real-time analysis. Therefore, we will transform it to date/ time object in pandas \n"
   ]
  },
  {
   "cell_type": "code",
   "execution_count": 360,
   "metadata": {},
   "outputs": [],
   "source": [
    "# transform Order Date, and Ship Date To Date/Time Object\n",
    "df['Order Date']= pd.to_datetime(df['Order Date'])\n",
    "df['Ship Date']= pd.to_datetime(df['Ship Date'])"
   ]
  },
  {
   "cell_type": "markdown",
   "metadata": {},
   "source": [
    "### Data Quality Check \n",
    "- In this section, we'll check if there is missing values or duplicated values, if yes, we wil track down the root cause. If no, we will visualize to observe the data distribution of our data, and figure out if there are any outliers. \n"
   ]
  },
  {
   "cell_type": "code",
   "execution_count": 361,
   "metadata": {},
   "outputs": [
    {
     "name": "stdout",
     "output_type": "stream",
     "text": [
      "Missing Value:  Row ID           0\n",
      "Order ID         0\n",
      "Order Date       0\n",
      "Ship Date        0\n",
      "Ship Mode        0\n",
      "Customer ID      0\n",
      "Customer Name    0\n",
      "Segment          0\n",
      "City             0\n",
      "State            0\n",
      "Region           0\n",
      "Product ID       0\n",
      "Category         0\n",
      "Sub-Category     0\n",
      "Product Name     0\n",
      "Sales            0\n",
      "Quantity         0\n",
      "Discount         0\n",
      "Profit           0\n",
      "dtype: int64\n",
      "Duplicate Value:  0\n"
     ]
    }
   ],
   "source": [
    "missing_value= df.isnull().sum()\n",
    "duplicate_value= df.duplicated().sum()\n",
    "print('Missing Value: ', missing_value)\n",
    "print('Duplicate Value: ', duplicate_value)"
   ]
  },
  {
   "cell_type": "markdown",
   "metadata": {},
   "source": [
    "### Statistical Summary \n",
    "- In this section, we'll explore basic information of our dataset by printing a 5-number summary that covers: count, mean, min, max, 25-75 percentile or standard deviation"
   ]
  },
  {
   "cell_type": "code",
   "execution_count": 362,
   "metadata": {},
   "outputs": [
    {
     "data": {
      "text/html": [
       "<div>\n",
       "<style scoped>\n",
       "    .dataframe tbody tr th:only-of-type {\n",
       "        vertical-align: middle;\n",
       "    }\n",
       "\n",
       "    .dataframe tbody tr th {\n",
       "        vertical-align: top;\n",
       "    }\n",
       "\n",
       "    .dataframe thead th {\n",
       "        text-align: right;\n",
       "    }\n",
       "</style>\n",
       "<table border=\"1\" class=\"dataframe\">\n",
       "  <thead>\n",
       "    <tr style=\"text-align: right;\">\n",
       "      <th></th>\n",
       "      <th>Row ID</th>\n",
       "      <th>Order Date</th>\n",
       "      <th>Ship Date</th>\n",
       "      <th>Sales</th>\n",
       "      <th>Quantity</th>\n",
       "      <th>Discount</th>\n",
       "      <th>Profit</th>\n",
       "    </tr>\n",
       "  </thead>\n",
       "  <tbody>\n",
       "    <tr>\n",
       "      <th>count</th>\n",
       "      <td>9994.000000</td>\n",
       "      <td>9994</td>\n",
       "      <td>9994</td>\n",
       "      <td>9994.000000</td>\n",
       "      <td>9994.000000</td>\n",
       "      <td>9994.000000</td>\n",
       "      <td>9994.000000</td>\n",
       "    </tr>\n",
       "    <tr>\n",
       "      <th>mean</th>\n",
       "      <td>4997.500000</td>\n",
       "      <td>2016-04-30 00:07:12.259355648</td>\n",
       "      <td>2016-05-03 23:06:58.571142912</td>\n",
       "      <td>229.858001</td>\n",
       "      <td>3.789574</td>\n",
       "      <td>0.156203</td>\n",
       "      <td>28.656896</td>\n",
       "    </tr>\n",
       "    <tr>\n",
       "      <th>min</th>\n",
       "      <td>1.000000</td>\n",
       "      <td>2014-01-03 00:00:00</td>\n",
       "      <td>2014-01-07 00:00:00</td>\n",
       "      <td>0.444000</td>\n",
       "      <td>1.000000</td>\n",
       "      <td>0.000000</td>\n",
       "      <td>-6599.978000</td>\n",
       "    </tr>\n",
       "    <tr>\n",
       "      <th>25%</th>\n",
       "      <td>2499.250000</td>\n",
       "      <td>2015-05-23 00:00:00</td>\n",
       "      <td>2015-05-27 00:00:00</td>\n",
       "      <td>17.280000</td>\n",
       "      <td>2.000000</td>\n",
       "      <td>0.000000</td>\n",
       "      <td>1.728750</td>\n",
       "    </tr>\n",
       "    <tr>\n",
       "      <th>50%</th>\n",
       "      <td>4997.500000</td>\n",
       "      <td>2016-06-26 00:00:00</td>\n",
       "      <td>2016-06-29 00:00:00</td>\n",
       "      <td>54.490000</td>\n",
       "      <td>3.000000</td>\n",
       "      <td>0.200000</td>\n",
       "      <td>8.666500</td>\n",
       "    </tr>\n",
       "    <tr>\n",
       "      <th>75%</th>\n",
       "      <td>7495.750000</td>\n",
       "      <td>2017-05-14 00:00:00</td>\n",
       "      <td>2017-05-18 00:00:00</td>\n",
       "      <td>209.940000</td>\n",
       "      <td>5.000000</td>\n",
       "      <td>0.200000</td>\n",
       "      <td>29.364000</td>\n",
       "    </tr>\n",
       "    <tr>\n",
       "      <th>max</th>\n",
       "      <td>9994.000000</td>\n",
       "      <td>2017-12-30 00:00:00</td>\n",
       "      <td>2018-01-05 00:00:00</td>\n",
       "      <td>22638.480000</td>\n",
       "      <td>14.000000</td>\n",
       "      <td>0.800000</td>\n",
       "      <td>8399.976000</td>\n",
       "    </tr>\n",
       "    <tr>\n",
       "      <th>std</th>\n",
       "      <td>2885.163629</td>\n",
       "      <td>NaN</td>\n",
       "      <td>NaN</td>\n",
       "      <td>623.245101</td>\n",
       "      <td>2.225110</td>\n",
       "      <td>0.206452</td>\n",
       "      <td>234.260108</td>\n",
       "    </tr>\n",
       "  </tbody>\n",
       "</table>\n",
       "</div>"
      ],
      "text/plain": [
       "            Row ID                     Order Date  \\\n",
       "count  9994.000000                           9994   \n",
       "mean   4997.500000  2016-04-30 00:07:12.259355648   \n",
       "min       1.000000            2014-01-03 00:00:00   \n",
       "25%    2499.250000            2015-05-23 00:00:00   \n",
       "50%    4997.500000            2016-06-26 00:00:00   \n",
       "75%    7495.750000            2017-05-14 00:00:00   \n",
       "max    9994.000000            2017-12-30 00:00:00   \n",
       "std    2885.163629                            NaN   \n",
       "\n",
       "                           Ship Date         Sales     Quantity     Discount  \\\n",
       "count                           9994   9994.000000  9994.000000  9994.000000   \n",
       "mean   2016-05-03 23:06:58.571142912    229.858001     3.789574     0.156203   \n",
       "min              2014-01-07 00:00:00      0.444000     1.000000     0.000000   \n",
       "25%              2015-05-27 00:00:00     17.280000     2.000000     0.000000   \n",
       "50%              2016-06-29 00:00:00     54.490000     3.000000     0.200000   \n",
       "75%              2017-05-18 00:00:00    209.940000     5.000000     0.200000   \n",
       "max              2018-01-05 00:00:00  22638.480000    14.000000     0.800000   \n",
       "std                              NaN    623.245101     2.225110     0.206452   \n",
       "\n",
       "            Profit  \n",
       "count  9994.000000  \n",
       "mean     28.656896  \n",
       "min   -6599.978000  \n",
       "25%       1.728750  \n",
       "50%       8.666500  \n",
       "75%      29.364000  \n",
       "max    8399.976000  \n",
       "std     234.260108  "
      ]
     },
     "execution_count": 362,
     "metadata": {},
     "output_type": "execute_result"
    }
   ],
   "source": [
    "df.describe()"
   ]
  },
  {
   "cell_type": "code",
   "execution_count": 363,
   "metadata": {},
   "outputs": [
    {
     "name": "stdout",
     "output_type": "stream",
     "text": [
      "Number Of Orders Without Duplicates: 5009\n"
     ]
    }
   ],
   "source": [
    "# number distinct orders \n",
    "distinct_orders= df['Order ID'].unique()\n",
    "num_distinct_ord= len(distinct_orders)\n",
    "print(\"Number Of Orders Without Duplicates: {}\".format(num_distinct_ord))"
   ]
  },
  {
   "cell_type": "markdown",
   "metadata": {},
   "source": [
    "### Order Analysis & Recommendations\n",
    "- Most of orders are small, with the average number of items sold approximately 4, the largest order only contain 12 items. This suggests that that main contributor of our orders are consumer, with only a small fraction is coporate consumer. **Action**: Investigate the customer lifetime value of bulk, and small customers, to identify high-value ones. \n",
    "- The number of total orders is 5009, with some repeated Order IDs, it could be because items in the same orders seperatedly recorded, and the concern is that: are these items shipped seperately ( an item in the same takes more time to be delivered than the others, or are shipped using a different mode of shipping). **Action**: Find out if items in the same orders take more time to deliver, if yes, this can discourage customers from buying more. "
   ]
  },
  {
   "cell_type": "code",
   "execution_count": 364,
   "metadata": {},
   "outputs": [
    {
     "name": "stdout",
     "output_type": "stream",
     "text": [
      "   Row ID        Order ID Order Date  Ship Date       Ship Mode Customer ID  \\\n",
      "0       1  CA-2016-152156 2016-11-08 2016-11-11    Second Class    CG-12520   \n",
      "1       2  CA-2016-152156 2016-11-08 2016-11-11    Second Class    CG-12520   \n",
      "3       4  US-2015-108966 2015-10-11 2015-10-18  Standard Class    SO-20335   \n",
      "4       5  US-2015-108966 2015-10-11 2015-10-18  Standard Class    SO-20335   \n",
      "5       6  CA-2014-115812 2014-06-09 2014-06-14  Standard Class    BH-11710   \n",
      "\n",
      "     Customer Name   Segment             City       State Region  \\\n",
      "0      Claire Gute  Consumer        Henderson    Kentucky  South   \n",
      "1      Claire Gute  Consumer        Henderson    Kentucky  South   \n",
      "3   Sean O'Donnell  Consumer  Fort Lauderdale     Florida  South   \n",
      "4   Sean O'Donnell  Consumer  Fort Lauderdale     Florida  South   \n",
      "5  Brosina Hoffman  Consumer      Los Angeles  California   West   \n",
      "\n",
      "        Product ID         Category Sub-Category  \\\n",
      "0  FUR-BO-10001798        Furniture    Bookcases   \n",
      "1  FUR-CH-10000454        Furniture       Chairs   \n",
      "3  FUR-TA-10000577        Furniture       Tables   \n",
      "4  OFF-ST-10000760  Office Supplies      Storage   \n",
      "5  FUR-FU-10001487        Furniture  Furnishings   \n",
      "\n",
      "                                        Product Name     Sales  Quantity  \\\n",
      "0                  Bush Somerset Collection Bookcase  261.9600         2   \n",
      "1  Hon Deluxe Fabric Upholstered Stacking Chairs,...  731.9400         3   \n",
      "3      Bretford CR4500 Series Slim Rectangular Table  957.5775         5   \n",
      "4                     Eldon Fold 'N Roll Cart System   22.3680         2   \n",
      "5  Eldon Expressions Wood and Plastic Desk Access...   48.8600         7   \n",
      "\n",
      "   Discount    Profit  \n",
      "0      0.00   41.9136  \n",
      "1      0.00  219.5820  \n",
      "3      0.45 -383.0310  \n",
      "4      0.20    2.5164  \n",
      "5      0.00   14.1694  \n"
     ]
    }
   ],
   "source": [
    "# print out orders with the same orders ID \n",
    "duplicated_orders= df.groupby('Order ID').filter(lambda col: len(col)>1)\n",
    "print(duplicated_orders.head())"
   ]
  },
  {
   "cell_type": "code",
   "execution_count": 365,
   "metadata": {},
   "outputs": [
    {
     "data": {
      "text/html": [
       "<div>\n",
       "<style scoped>\n",
       "    .dataframe tbody tr th:only-of-type {\n",
       "        vertical-align: middle;\n",
       "    }\n",
       "\n",
       "    .dataframe tbody tr th {\n",
       "        vertical-align: top;\n",
       "    }\n",
       "\n",
       "    .dataframe thead th {\n",
       "        text-align: right;\n",
       "    }\n",
       "</style>\n",
       "<table border=\"1\" class=\"dataframe\">\n",
       "  <thead>\n",
       "    <tr style=\"text-align: right;\">\n",
       "      <th></th>\n",
       "      <th>Row ID</th>\n",
       "      <th>Order ID</th>\n",
       "      <th>Order Date</th>\n",
       "      <th>Ship Date</th>\n",
       "      <th>Ship Mode</th>\n",
       "      <th>Customer ID</th>\n",
       "      <th>Customer Name</th>\n",
       "      <th>Segment</th>\n",
       "      <th>City</th>\n",
       "      <th>State</th>\n",
       "      <th>Region</th>\n",
       "      <th>Product ID</th>\n",
       "      <th>Category</th>\n",
       "      <th>Sub-Category</th>\n",
       "      <th>Product Name</th>\n",
       "      <th>Sales</th>\n",
       "      <th>Quantity</th>\n",
       "      <th>Discount</th>\n",
       "      <th>Profit</th>\n",
       "    </tr>\n",
       "  </thead>\n",
       "  <tbody>\n",
       "    <tr>\n",
       "      <th>6287</th>\n",
       "      <td>6288</td>\n",
       "      <td>CA-2014-100090</td>\n",
       "      <td>2014-07-08</td>\n",
       "      <td>2014-07-12</td>\n",
       "      <td>Standard Class</td>\n",
       "      <td>EB-13705</td>\n",
       "      <td>Ed Braxton</td>\n",
       "      <td>Corporate</td>\n",
       "      <td>San Francisco</td>\n",
       "      <td>California</td>\n",
       "      <td>West</td>\n",
       "      <td>FUR-TA-10003715</td>\n",
       "      <td>Furniture</td>\n",
       "      <td>Tables</td>\n",
       "      <td>Hon 2111 Invitation Series Corner Table</td>\n",
       "      <td>502.488</td>\n",
       "      <td>3</td>\n",
       "      <td>0.2</td>\n",
       "      <td>-87.9354</td>\n",
       "    </tr>\n",
       "    <tr>\n",
       "      <th>6288</th>\n",
       "      <td>6289</td>\n",
       "      <td>CA-2014-100090</td>\n",
       "      <td>2014-07-08</td>\n",
       "      <td>2014-07-12</td>\n",
       "      <td>Standard Class</td>\n",
       "      <td>EB-13705</td>\n",
       "      <td>Ed Braxton</td>\n",
       "      <td>Corporate</td>\n",
       "      <td>San Francisco</td>\n",
       "      <td>California</td>\n",
       "      <td>West</td>\n",
       "      <td>OFF-BI-10001597</td>\n",
       "      <td>Office Supplies</td>\n",
       "      <td>Binders</td>\n",
       "      <td>Wilson Jones Ledger-Size, Piano-Hinge Binder, ...</td>\n",
       "      <td>196.704</td>\n",
       "      <td>6</td>\n",
       "      <td>0.2</td>\n",
       "      <td>68.8464</td>\n",
       "    </tr>\n",
       "    <tr>\n",
       "      <th>3835</th>\n",
       "      <td>3836</td>\n",
       "      <td>CA-2014-100363</td>\n",
       "      <td>2014-04-08</td>\n",
       "      <td>2014-04-15</td>\n",
       "      <td>Standard Class</td>\n",
       "      <td>JM-15655</td>\n",
       "      <td>Jim Mitchum</td>\n",
       "      <td>Corporate</td>\n",
       "      <td>Glendale</td>\n",
       "      <td>Arizona</td>\n",
       "      <td>West</td>\n",
       "      <td>OFF-FA-10000611</td>\n",
       "      <td>Office Supplies</td>\n",
       "      <td>Fasteners</td>\n",
       "      <td>Binder Clips by OIC</td>\n",
       "      <td>2.368</td>\n",
       "      <td>2</td>\n",
       "      <td>0.2</td>\n",
       "      <td>0.8288</td>\n",
       "    </tr>\n",
       "    <tr>\n",
       "      <th>3836</th>\n",
       "      <td>3837</td>\n",
       "      <td>CA-2014-100363</td>\n",
       "      <td>2014-04-08</td>\n",
       "      <td>2014-04-15</td>\n",
       "      <td>Standard Class</td>\n",
       "      <td>JM-15655</td>\n",
       "      <td>Jim Mitchum</td>\n",
       "      <td>Corporate</td>\n",
       "      <td>Glendale</td>\n",
       "      <td>Arizona</td>\n",
       "      <td>West</td>\n",
       "      <td>OFF-PA-10004733</td>\n",
       "      <td>Office Supplies</td>\n",
       "      <td>Paper</td>\n",
       "      <td>Things To Do Today Spiral Book</td>\n",
       "      <td>19.008</td>\n",
       "      <td>3</td>\n",
       "      <td>0.2</td>\n",
       "      <td>6.8904</td>\n",
       "    </tr>\n",
       "    <tr>\n",
       "      <th>6568</th>\n",
       "      <td>6569</td>\n",
       "      <td>CA-2014-100678</td>\n",
       "      <td>2014-04-18</td>\n",
       "      <td>2014-04-22</td>\n",
       "      <td>Standard Class</td>\n",
       "      <td>KM-16720</td>\n",
       "      <td>Kunst Miller</td>\n",
       "      <td>Consumer</td>\n",
       "      <td>Houston</td>\n",
       "      <td>Texas</td>\n",
       "      <td>Central</td>\n",
       "      <td>OFF-AR-10001868</td>\n",
       "      <td>Office Supplies</td>\n",
       "      <td>Art</td>\n",
       "      <td>Prang Dustless Chalk Sticks</td>\n",
       "      <td>2.688</td>\n",
       "      <td>2</td>\n",
       "      <td>0.2</td>\n",
       "      <td>1.0080</td>\n",
       "    </tr>\n",
       "    <tr>\n",
       "      <th>...</th>\n",
       "      <td>...</td>\n",
       "      <td>...</td>\n",
       "      <td>...</td>\n",
       "      <td>...</td>\n",
       "      <td>...</td>\n",
       "      <td>...</td>\n",
       "      <td>...</td>\n",
       "      <td>...</td>\n",
       "      <td>...</td>\n",
       "      <td>...</td>\n",
       "      <td>...</td>\n",
       "      <td>...</td>\n",
       "      <td>...</td>\n",
       "      <td>...</td>\n",
       "      <td>...</td>\n",
       "      <td>...</td>\n",
       "      <td>...</td>\n",
       "      <td>...</td>\n",
       "      <td>...</td>\n",
       "    </tr>\n",
       "    <tr>\n",
       "      <th>5930</th>\n",
       "      <td>5931</td>\n",
       "      <td>US-2017-169551</td>\n",
       "      <td>2017-07-07</td>\n",
       "      <td>2017-07-09</td>\n",
       "      <td>First Class</td>\n",
       "      <td>RL-19615</td>\n",
       "      <td>Rob Lucas</td>\n",
       "      <td>Consumer</td>\n",
       "      <td>Philadelphia</td>\n",
       "      <td>Pennsylvania</td>\n",
       "      <td>East</td>\n",
       "      <td>OFF-PA-10004100</td>\n",
       "      <td>Office Supplies</td>\n",
       "      <td>Paper</td>\n",
       "      <td>Xerox 216</td>\n",
       "      <td>15.552</td>\n",
       "      <td>3</td>\n",
       "      <td>0.2</td>\n",
       "      <td>5.4432</td>\n",
       "    </tr>\n",
       "    <tr>\n",
       "      <th>5931</th>\n",
       "      <td>5932</td>\n",
       "      <td>US-2017-169551</td>\n",
       "      <td>2017-07-07</td>\n",
       "      <td>2017-07-09</td>\n",
       "      <td>First Class</td>\n",
       "      <td>RL-19615</td>\n",
       "      <td>Rob Lucas</td>\n",
       "      <td>Consumer</td>\n",
       "      <td>Philadelphia</td>\n",
       "      <td>Pennsylvania</td>\n",
       "      <td>East</td>\n",
       "      <td>TEC-PH-10001363</td>\n",
       "      <td>Technology</td>\n",
       "      <td>Phones</td>\n",
       "      <td>Apple iPhone 5S</td>\n",
       "      <td>683.988</td>\n",
       "      <td>2</td>\n",
       "      <td>0.4</td>\n",
       "      <td>-113.9980</td>\n",
       "    </tr>\n",
       "    <tr>\n",
       "      <th>5932</th>\n",
       "      <td>5933</td>\n",
       "      <td>US-2017-169551</td>\n",
       "      <td>2017-07-07</td>\n",
       "      <td>2017-07-09</td>\n",
       "      <td>First Class</td>\n",
       "      <td>RL-19615</td>\n",
       "      <td>Rob Lucas</td>\n",
       "      <td>Consumer</td>\n",
       "      <td>Philadelphia</td>\n",
       "      <td>Pennsylvania</td>\n",
       "      <td>East</td>\n",
       "      <td>OFF-ST-10004835</td>\n",
       "      <td>Office Supplies</td>\n",
       "      <td>Storage</td>\n",
       "      <td>Plastic Stacking Crates &amp; Casters</td>\n",
       "      <td>13.392</td>\n",
       "      <td>3</td>\n",
       "      <td>0.2</td>\n",
       "      <td>1.0044</td>\n",
       "    </tr>\n",
       "    <tr>\n",
       "      <th>5933</th>\n",
       "      <td>5934</td>\n",
       "      <td>US-2017-169551</td>\n",
       "      <td>2017-07-07</td>\n",
       "      <td>2017-07-09</td>\n",
       "      <td>First Class</td>\n",
       "      <td>RL-19615</td>\n",
       "      <td>Rob Lucas</td>\n",
       "      <td>Consumer</td>\n",
       "      <td>Philadelphia</td>\n",
       "      <td>Pennsylvania</td>\n",
       "      <td>East</td>\n",
       "      <td>TEC-AC-10002018</td>\n",
       "      <td>Technology</td>\n",
       "      <td>Accessories</td>\n",
       "      <td>AmazonBasics 3-Button USB Wired Mouse</td>\n",
       "      <td>16.776</td>\n",
       "      <td>3</td>\n",
       "      <td>0.2</td>\n",
       "      <td>4.8231</td>\n",
       "    </tr>\n",
       "    <tr>\n",
       "      <th>5934</th>\n",
       "      <td>5935</td>\n",
       "      <td>US-2017-169551</td>\n",
       "      <td>2017-07-07</td>\n",
       "      <td>2017-07-09</td>\n",
       "      <td>First Class</td>\n",
       "      <td>RL-19615</td>\n",
       "      <td>Rob Lucas</td>\n",
       "      <td>Consumer</td>\n",
       "      <td>Philadelphia</td>\n",
       "      <td>Pennsylvania</td>\n",
       "      <td>East</td>\n",
       "      <td>TEC-AC-10003033</td>\n",
       "      <td>Technology</td>\n",
       "      <td>Accessories</td>\n",
       "      <td>Plantronics CS510 - Over-the-Head monaural Wir...</td>\n",
       "      <td>527.920</td>\n",
       "      <td>2</td>\n",
       "      <td>0.2</td>\n",
       "      <td>85.7870</td>\n",
       "    </tr>\n",
       "  </tbody>\n",
       "</table>\n",
       "<p>7456 rows × 19 columns</p>\n",
       "</div>"
      ],
      "text/plain": [
       "      Row ID        Order ID Order Date  Ship Date       Ship Mode  \\\n",
       "6287    6288  CA-2014-100090 2014-07-08 2014-07-12  Standard Class   \n",
       "6288    6289  CA-2014-100090 2014-07-08 2014-07-12  Standard Class   \n",
       "3835    3836  CA-2014-100363 2014-04-08 2014-04-15  Standard Class   \n",
       "3836    3837  CA-2014-100363 2014-04-08 2014-04-15  Standard Class   \n",
       "6568    6569  CA-2014-100678 2014-04-18 2014-04-22  Standard Class   \n",
       "...      ...             ...        ...        ...             ...   \n",
       "5930    5931  US-2017-169551 2017-07-07 2017-07-09     First Class   \n",
       "5931    5932  US-2017-169551 2017-07-07 2017-07-09     First Class   \n",
       "5932    5933  US-2017-169551 2017-07-07 2017-07-09     First Class   \n",
       "5933    5934  US-2017-169551 2017-07-07 2017-07-09     First Class   \n",
       "5934    5935  US-2017-169551 2017-07-07 2017-07-09     First Class   \n",
       "\n",
       "     Customer ID Customer Name    Segment           City         State  \\\n",
       "6287    EB-13705    Ed Braxton  Corporate  San Francisco    California   \n",
       "6288    EB-13705    Ed Braxton  Corporate  San Francisco    California   \n",
       "3835    JM-15655   Jim Mitchum  Corporate       Glendale       Arizona   \n",
       "3836    JM-15655   Jim Mitchum  Corporate       Glendale       Arizona   \n",
       "6568    KM-16720  Kunst Miller   Consumer        Houston         Texas   \n",
       "...          ...           ...        ...            ...           ...   \n",
       "5930    RL-19615     Rob Lucas   Consumer   Philadelphia  Pennsylvania   \n",
       "5931    RL-19615     Rob Lucas   Consumer   Philadelphia  Pennsylvania   \n",
       "5932    RL-19615     Rob Lucas   Consumer   Philadelphia  Pennsylvania   \n",
       "5933    RL-19615     Rob Lucas   Consumer   Philadelphia  Pennsylvania   \n",
       "5934    RL-19615     Rob Lucas   Consumer   Philadelphia  Pennsylvania   \n",
       "\n",
       "       Region       Product ID         Category Sub-Category  \\\n",
       "6287     West  FUR-TA-10003715        Furniture       Tables   \n",
       "6288     West  OFF-BI-10001597  Office Supplies      Binders   \n",
       "3835     West  OFF-FA-10000611  Office Supplies    Fasteners   \n",
       "3836     West  OFF-PA-10004733  Office Supplies        Paper   \n",
       "6568  Central  OFF-AR-10001868  Office Supplies          Art   \n",
       "...       ...              ...              ...          ...   \n",
       "5930     East  OFF-PA-10004100  Office Supplies        Paper   \n",
       "5931     East  TEC-PH-10001363       Technology       Phones   \n",
       "5932     East  OFF-ST-10004835  Office Supplies      Storage   \n",
       "5933     East  TEC-AC-10002018       Technology  Accessories   \n",
       "5934     East  TEC-AC-10003033       Technology  Accessories   \n",
       "\n",
       "                                           Product Name    Sales  Quantity  \\\n",
       "6287            Hon 2111 Invitation Series Corner Table  502.488         3   \n",
       "6288  Wilson Jones Ledger-Size, Piano-Hinge Binder, ...  196.704         6   \n",
       "3835                                Binder Clips by OIC    2.368         2   \n",
       "3836                     Things To Do Today Spiral Book   19.008         3   \n",
       "6568                        Prang Dustless Chalk Sticks    2.688         2   \n",
       "...                                                 ...      ...       ...   \n",
       "5930                                          Xerox 216   15.552         3   \n",
       "5931                                    Apple iPhone 5S  683.988         2   \n",
       "5932                  Plastic Stacking Crates & Casters   13.392         3   \n",
       "5933              AmazonBasics 3-Button USB Wired Mouse   16.776         3   \n",
       "5934  Plantronics CS510 - Over-the-Head monaural Wir...  527.920         2   \n",
       "\n",
       "      Discount    Profit  \n",
       "6287       0.2  -87.9354  \n",
       "6288       0.2   68.8464  \n",
       "3835       0.2    0.8288  \n",
       "3836       0.2    6.8904  \n",
       "6568       0.2    1.0080  \n",
       "...        ...       ...  \n",
       "5930       0.2    5.4432  \n",
       "5931       0.4 -113.9980  \n",
       "5932       0.2    1.0044  \n",
       "5933       0.2    4.8231  \n",
       "5934       0.2   85.7870  \n",
       "\n",
       "[7456 rows x 19 columns]"
      ]
     },
     "execution_count": 365,
     "metadata": {},
     "output_type": "execute_result"
    }
   ],
   "source": [
    "# sap xep duplicated orders theo ngay giao hang\n",
    "duplicated_orders.sort_values(by=['Order ID','Ship Date']) "
   ]
  },
  {
   "cell_type": "code",
   "execution_count": 366,
   "metadata": {},
   "outputs": [
    {
     "data": {
      "text/html": [
       "<div>\n",
       "<style scoped>\n",
       "    .dataframe tbody tr th:only-of-type {\n",
       "        vertical-align: middle;\n",
       "    }\n",
       "\n",
       "    .dataframe tbody tr th {\n",
       "        vertical-align: top;\n",
       "    }\n",
       "\n",
       "    .dataframe thead th {\n",
       "        text-align: right;\n",
       "    }\n",
       "</style>\n",
       "<table border=\"1\" class=\"dataframe\">\n",
       "  <thead>\n",
       "    <tr style=\"text-align: right;\">\n",
       "      <th></th>\n",
       "      <th>Row ID</th>\n",
       "      <th>Order ID</th>\n",
       "      <th>Order Date</th>\n",
       "      <th>Ship Date</th>\n",
       "      <th>Ship Mode</th>\n",
       "      <th>Customer ID</th>\n",
       "      <th>Customer Name</th>\n",
       "      <th>Segment</th>\n",
       "      <th>City</th>\n",
       "      <th>State</th>\n",
       "      <th>Region</th>\n",
       "      <th>Product ID</th>\n",
       "      <th>Category</th>\n",
       "      <th>Sub-Category</th>\n",
       "      <th>Product Name</th>\n",
       "      <th>Sales</th>\n",
       "      <th>Quantity</th>\n",
       "      <th>Discount</th>\n",
       "      <th>Profit</th>\n",
       "    </tr>\n",
       "  </thead>\n",
       "  <tbody>\n",
       "    <tr>\n",
       "      <th>6287</th>\n",
       "      <td>6288</td>\n",
       "      <td>CA-2014-100090</td>\n",
       "      <td>2014-07-08</td>\n",
       "      <td>2014-07-12</td>\n",
       "      <td>Standard Class</td>\n",
       "      <td>EB-13705</td>\n",
       "      <td>Ed Braxton</td>\n",
       "      <td>Corporate</td>\n",
       "      <td>San Francisco</td>\n",
       "      <td>California</td>\n",
       "      <td>West</td>\n",
       "      <td>FUR-TA-10003715</td>\n",
       "      <td>Furniture</td>\n",
       "      <td>Tables</td>\n",
       "      <td>Hon 2111 Invitation Series Corner Table</td>\n",
       "      <td>502.488</td>\n",
       "      <td>3</td>\n",
       "      <td>0.2</td>\n",
       "      <td>-87.9354</td>\n",
       "    </tr>\n",
       "    <tr>\n",
       "      <th>6288</th>\n",
       "      <td>6289</td>\n",
       "      <td>CA-2014-100090</td>\n",
       "      <td>2014-07-08</td>\n",
       "      <td>2014-07-12</td>\n",
       "      <td>Standard Class</td>\n",
       "      <td>EB-13705</td>\n",
       "      <td>Ed Braxton</td>\n",
       "      <td>Corporate</td>\n",
       "      <td>San Francisco</td>\n",
       "      <td>California</td>\n",
       "      <td>West</td>\n",
       "      <td>OFF-BI-10001597</td>\n",
       "      <td>Office Supplies</td>\n",
       "      <td>Binders</td>\n",
       "      <td>Wilson Jones Ledger-Size, Piano-Hinge Binder, ...</td>\n",
       "      <td>196.704</td>\n",
       "      <td>6</td>\n",
       "      <td>0.2</td>\n",
       "      <td>68.8464</td>\n",
       "    </tr>\n",
       "    <tr>\n",
       "      <th>3835</th>\n",
       "      <td>3836</td>\n",
       "      <td>CA-2014-100363</td>\n",
       "      <td>2014-04-08</td>\n",
       "      <td>2014-04-15</td>\n",
       "      <td>Standard Class</td>\n",
       "      <td>JM-15655</td>\n",
       "      <td>Jim Mitchum</td>\n",
       "      <td>Corporate</td>\n",
       "      <td>Glendale</td>\n",
       "      <td>Arizona</td>\n",
       "      <td>West</td>\n",
       "      <td>OFF-FA-10000611</td>\n",
       "      <td>Office Supplies</td>\n",
       "      <td>Fasteners</td>\n",
       "      <td>Binder Clips by OIC</td>\n",
       "      <td>2.368</td>\n",
       "      <td>2</td>\n",
       "      <td>0.2</td>\n",
       "      <td>0.8288</td>\n",
       "    </tr>\n",
       "    <tr>\n",
       "      <th>3836</th>\n",
       "      <td>3837</td>\n",
       "      <td>CA-2014-100363</td>\n",
       "      <td>2014-04-08</td>\n",
       "      <td>2014-04-15</td>\n",
       "      <td>Standard Class</td>\n",
       "      <td>JM-15655</td>\n",
       "      <td>Jim Mitchum</td>\n",
       "      <td>Corporate</td>\n",
       "      <td>Glendale</td>\n",
       "      <td>Arizona</td>\n",
       "      <td>West</td>\n",
       "      <td>OFF-PA-10004733</td>\n",
       "      <td>Office Supplies</td>\n",
       "      <td>Paper</td>\n",
       "      <td>Things To Do Today Spiral Book</td>\n",
       "      <td>19.008</td>\n",
       "      <td>3</td>\n",
       "      <td>0.2</td>\n",
       "      <td>6.8904</td>\n",
       "    </tr>\n",
       "    <tr>\n",
       "      <th>6568</th>\n",
       "      <td>6569</td>\n",
       "      <td>CA-2014-100678</td>\n",
       "      <td>2014-04-18</td>\n",
       "      <td>2014-04-22</td>\n",
       "      <td>Standard Class</td>\n",
       "      <td>KM-16720</td>\n",
       "      <td>Kunst Miller</td>\n",
       "      <td>Consumer</td>\n",
       "      <td>Houston</td>\n",
       "      <td>Texas</td>\n",
       "      <td>Central</td>\n",
       "      <td>OFF-AR-10001868</td>\n",
       "      <td>Office Supplies</td>\n",
       "      <td>Art</td>\n",
       "      <td>Prang Dustless Chalk Sticks</td>\n",
       "      <td>2.688</td>\n",
       "      <td>2</td>\n",
       "      <td>0.2</td>\n",
       "      <td>1.0080</td>\n",
       "    </tr>\n",
       "    <tr>\n",
       "      <th>...</th>\n",
       "      <td>...</td>\n",
       "      <td>...</td>\n",
       "      <td>...</td>\n",
       "      <td>...</td>\n",
       "      <td>...</td>\n",
       "      <td>...</td>\n",
       "      <td>...</td>\n",
       "      <td>...</td>\n",
       "      <td>...</td>\n",
       "      <td>...</td>\n",
       "      <td>...</td>\n",
       "      <td>...</td>\n",
       "      <td>...</td>\n",
       "      <td>...</td>\n",
       "      <td>...</td>\n",
       "      <td>...</td>\n",
       "      <td>...</td>\n",
       "      <td>...</td>\n",
       "      <td>...</td>\n",
       "    </tr>\n",
       "    <tr>\n",
       "      <th>5930</th>\n",
       "      <td>5931</td>\n",
       "      <td>US-2017-169551</td>\n",
       "      <td>2017-07-07</td>\n",
       "      <td>2017-07-09</td>\n",
       "      <td>First Class</td>\n",
       "      <td>RL-19615</td>\n",
       "      <td>Rob Lucas</td>\n",
       "      <td>Consumer</td>\n",
       "      <td>Philadelphia</td>\n",
       "      <td>Pennsylvania</td>\n",
       "      <td>East</td>\n",
       "      <td>OFF-PA-10004100</td>\n",
       "      <td>Office Supplies</td>\n",
       "      <td>Paper</td>\n",
       "      <td>Xerox 216</td>\n",
       "      <td>15.552</td>\n",
       "      <td>3</td>\n",
       "      <td>0.2</td>\n",
       "      <td>5.4432</td>\n",
       "    </tr>\n",
       "    <tr>\n",
       "      <th>5931</th>\n",
       "      <td>5932</td>\n",
       "      <td>US-2017-169551</td>\n",
       "      <td>2017-07-07</td>\n",
       "      <td>2017-07-09</td>\n",
       "      <td>First Class</td>\n",
       "      <td>RL-19615</td>\n",
       "      <td>Rob Lucas</td>\n",
       "      <td>Consumer</td>\n",
       "      <td>Philadelphia</td>\n",
       "      <td>Pennsylvania</td>\n",
       "      <td>East</td>\n",
       "      <td>TEC-PH-10001363</td>\n",
       "      <td>Technology</td>\n",
       "      <td>Phones</td>\n",
       "      <td>Apple iPhone 5S</td>\n",
       "      <td>683.988</td>\n",
       "      <td>2</td>\n",
       "      <td>0.4</td>\n",
       "      <td>-113.9980</td>\n",
       "    </tr>\n",
       "    <tr>\n",
       "      <th>5932</th>\n",
       "      <td>5933</td>\n",
       "      <td>US-2017-169551</td>\n",
       "      <td>2017-07-07</td>\n",
       "      <td>2017-07-09</td>\n",
       "      <td>First Class</td>\n",
       "      <td>RL-19615</td>\n",
       "      <td>Rob Lucas</td>\n",
       "      <td>Consumer</td>\n",
       "      <td>Philadelphia</td>\n",
       "      <td>Pennsylvania</td>\n",
       "      <td>East</td>\n",
       "      <td>OFF-ST-10004835</td>\n",
       "      <td>Office Supplies</td>\n",
       "      <td>Storage</td>\n",
       "      <td>Plastic Stacking Crates &amp; Casters</td>\n",
       "      <td>13.392</td>\n",
       "      <td>3</td>\n",
       "      <td>0.2</td>\n",
       "      <td>1.0044</td>\n",
       "    </tr>\n",
       "    <tr>\n",
       "      <th>5933</th>\n",
       "      <td>5934</td>\n",
       "      <td>US-2017-169551</td>\n",
       "      <td>2017-07-07</td>\n",
       "      <td>2017-07-09</td>\n",
       "      <td>First Class</td>\n",
       "      <td>RL-19615</td>\n",
       "      <td>Rob Lucas</td>\n",
       "      <td>Consumer</td>\n",
       "      <td>Philadelphia</td>\n",
       "      <td>Pennsylvania</td>\n",
       "      <td>East</td>\n",
       "      <td>TEC-AC-10002018</td>\n",
       "      <td>Technology</td>\n",
       "      <td>Accessories</td>\n",
       "      <td>AmazonBasics 3-Button USB Wired Mouse</td>\n",
       "      <td>16.776</td>\n",
       "      <td>3</td>\n",
       "      <td>0.2</td>\n",
       "      <td>4.8231</td>\n",
       "    </tr>\n",
       "    <tr>\n",
       "      <th>5934</th>\n",
       "      <td>5935</td>\n",
       "      <td>US-2017-169551</td>\n",
       "      <td>2017-07-07</td>\n",
       "      <td>2017-07-09</td>\n",
       "      <td>First Class</td>\n",
       "      <td>RL-19615</td>\n",
       "      <td>Rob Lucas</td>\n",
       "      <td>Consumer</td>\n",
       "      <td>Philadelphia</td>\n",
       "      <td>Pennsylvania</td>\n",
       "      <td>East</td>\n",
       "      <td>TEC-AC-10003033</td>\n",
       "      <td>Technology</td>\n",
       "      <td>Accessories</td>\n",
       "      <td>Plantronics CS510 - Over-the-Head monaural Wir...</td>\n",
       "      <td>527.920</td>\n",
       "      <td>2</td>\n",
       "      <td>0.2</td>\n",
       "      <td>85.7870</td>\n",
       "    </tr>\n",
       "  </tbody>\n",
       "</table>\n",
       "<p>7456 rows × 19 columns</p>\n",
       "</div>"
      ],
      "text/plain": [
       "      Row ID        Order ID Order Date  Ship Date       Ship Mode  \\\n",
       "6287    6288  CA-2014-100090 2014-07-08 2014-07-12  Standard Class   \n",
       "6288    6289  CA-2014-100090 2014-07-08 2014-07-12  Standard Class   \n",
       "3835    3836  CA-2014-100363 2014-04-08 2014-04-15  Standard Class   \n",
       "3836    3837  CA-2014-100363 2014-04-08 2014-04-15  Standard Class   \n",
       "6568    6569  CA-2014-100678 2014-04-18 2014-04-22  Standard Class   \n",
       "...      ...             ...        ...        ...             ...   \n",
       "5930    5931  US-2017-169551 2017-07-07 2017-07-09     First Class   \n",
       "5931    5932  US-2017-169551 2017-07-07 2017-07-09     First Class   \n",
       "5932    5933  US-2017-169551 2017-07-07 2017-07-09     First Class   \n",
       "5933    5934  US-2017-169551 2017-07-07 2017-07-09     First Class   \n",
       "5934    5935  US-2017-169551 2017-07-07 2017-07-09     First Class   \n",
       "\n",
       "     Customer ID Customer Name    Segment           City         State  \\\n",
       "6287    EB-13705    Ed Braxton  Corporate  San Francisco    California   \n",
       "6288    EB-13705    Ed Braxton  Corporate  San Francisco    California   \n",
       "3835    JM-15655   Jim Mitchum  Corporate       Glendale       Arizona   \n",
       "3836    JM-15655   Jim Mitchum  Corporate       Glendale       Arizona   \n",
       "6568    KM-16720  Kunst Miller   Consumer        Houston         Texas   \n",
       "...          ...           ...        ...            ...           ...   \n",
       "5930    RL-19615     Rob Lucas   Consumer   Philadelphia  Pennsylvania   \n",
       "5931    RL-19615     Rob Lucas   Consumer   Philadelphia  Pennsylvania   \n",
       "5932    RL-19615     Rob Lucas   Consumer   Philadelphia  Pennsylvania   \n",
       "5933    RL-19615     Rob Lucas   Consumer   Philadelphia  Pennsylvania   \n",
       "5934    RL-19615     Rob Lucas   Consumer   Philadelphia  Pennsylvania   \n",
       "\n",
       "       Region       Product ID         Category Sub-Category  \\\n",
       "6287     West  FUR-TA-10003715        Furniture       Tables   \n",
       "6288     West  OFF-BI-10001597  Office Supplies      Binders   \n",
       "3835     West  OFF-FA-10000611  Office Supplies    Fasteners   \n",
       "3836     West  OFF-PA-10004733  Office Supplies        Paper   \n",
       "6568  Central  OFF-AR-10001868  Office Supplies          Art   \n",
       "...       ...              ...              ...          ...   \n",
       "5930     East  OFF-PA-10004100  Office Supplies        Paper   \n",
       "5931     East  TEC-PH-10001363       Technology       Phones   \n",
       "5932     East  OFF-ST-10004835  Office Supplies      Storage   \n",
       "5933     East  TEC-AC-10002018       Technology  Accessories   \n",
       "5934     East  TEC-AC-10003033       Technology  Accessories   \n",
       "\n",
       "                                           Product Name    Sales  Quantity  \\\n",
       "6287            Hon 2111 Invitation Series Corner Table  502.488         3   \n",
       "6288  Wilson Jones Ledger-Size, Piano-Hinge Binder, ...  196.704         6   \n",
       "3835                                Binder Clips by OIC    2.368         2   \n",
       "3836                     Things To Do Today Spiral Book   19.008         3   \n",
       "6568                        Prang Dustless Chalk Sticks    2.688         2   \n",
       "...                                                 ...      ...       ...   \n",
       "5930                                          Xerox 216   15.552         3   \n",
       "5931                                    Apple iPhone 5S  683.988         2   \n",
       "5932                  Plastic Stacking Crates & Casters   13.392         3   \n",
       "5933              AmazonBasics 3-Button USB Wired Mouse   16.776         3   \n",
       "5934  Plantronics CS510 - Over-the-Head monaural Wir...  527.920         2   \n",
       "\n",
       "      Discount    Profit  \n",
       "6287       0.2  -87.9354  \n",
       "6288       0.2   68.8464  \n",
       "3835       0.2    0.8288  \n",
       "3836       0.2    6.8904  \n",
       "6568       0.2    1.0080  \n",
       "...        ...       ...  \n",
       "5930       0.2    5.4432  \n",
       "5931       0.4 -113.9980  \n",
       "5932       0.2    1.0044  \n",
       "5933       0.2    4.8231  \n",
       "5934       0.2   85.7870  \n",
       "\n",
       "[7456 rows x 19 columns]"
      ]
     },
     "execution_count": 366,
     "metadata": {},
     "output_type": "execute_result"
    }
   ],
   "source": [
    "# sap xep duplicated orders theo ngay giao hang\n",
    "duplicated_orders.sort_values(by=['Order ID','Ship Date']) "
   ]
  },
  {
   "cell_type": "code",
   "execution_count": 367,
   "metadata": {},
   "outputs": [
    {
     "name": "stdout",
     "output_type": "stream",
     "text": [
      "            Order ID       Product ID  Ship Date Time Diff\n",
      "0     CA-2016-152156  FUR-BO-10001798 2016-11-11       NaT\n",
      "1     CA-2016-152156  FUR-CH-10000454 2016-11-11    0 days\n",
      "3     US-2015-108966  FUR-TA-10000577 2015-10-18       NaT\n",
      "4     US-2015-108966  OFF-ST-10000760 2015-10-18    0 days\n",
      "5     CA-2014-115812  FUR-FU-10001487 2014-06-14       NaT\n",
      "...              ...              ...        ...       ...\n",
      "9987  CA-2017-163629  TEC-AC-10001539 2017-11-21       NaT\n",
      "9988  CA-2017-163629  TEC-PH-10004006 2017-11-21    0 days\n",
      "9990  CA-2017-121258  FUR-FU-10000747 2017-03-03       NaT\n",
      "9991  CA-2017-121258  TEC-PH-10003645 2017-03-03    0 days\n",
      "9992  CA-2017-121258  OFF-PA-10004041 2017-03-03    0 days\n",
      "\n",
      "[7456 rows x 4 columns]\n"
     ]
    }
   ],
   "source": [
    "# tinh thoi gian chenh lech giua cac san pham trong cung 1 order, có san pham nao duoc giao cham hon han khong \n",
    "duplicated_orders['Time Diff']= duplicated_orders.groupby('Order ID')['Ship Date'].diff()\n",
    "print(duplicated_orders[['Order ID', 'Product ID', 'Ship Date', 'Time Diff']])"
   ]
  },
  {
   "cell_type": "markdown",
   "metadata": {},
   "source": [
    "### Retail Sales Excecutive Summarry (2014-2017) Based On Statistical Summary \n",
    "- Sales have a big difference from the minimum with just 0.77$ in revenue, to a maximum of 22638.4, this suggests that we are relying on a fraction of products, or customers that contribute 80% of our revenue. The question is does the products that contribute to 80% of sales, also contribute the same to profit, if the product contributing high to sales, but that sales doesnt convert into profit, then we need to asses our pricing strategy.\n",
    "- Profit shows that while some products are highly profitable, some incurr loss up to -6599.978000, and that's almost up to 80% of order with the highest profit \n",
    "- Discount vouchers are giving at max 80%, we need to know if these vouchers bring in customers, and convert into profit, or we are inccurring loss by applying these vouchers "
   ]
  },
  {
   "cell_type": "markdown",
   "metadata": {},
   "source": [
    "### Recommendations: Next Steps We Need To Take \n",
    "- Perform a cost-benefit analysis to identify optimal discount thresholds. Develop personalized discount strategies for each segments of customers by RFM metrics, and K-means Clustering\n",
    "-  Evaluate whether these high-sales products are equally profitable. If they are not, adjust the pricing strategy, conduct Pareto Analysis to select 20% of products that contribute to 80% sales, and priotize improvements on these products. \n",
    "- Investigate which products or discount levels lead to losses, visualize products contributing to loss, and identify 20% of products contributing to 80% loss, and reconsider the pricing strategy. \n",
    "- Investigate, whether bulk buyers are our top customers, if yes, develop bulk buyer discount strategies by Market Basket Analysis-> which products customers love to buy together "
   ]
  },
  {
   "cell_type": "markdown",
   "metadata": {},
   "source": [
    "### Data Visualization And Correlation Matrix"
   ]
  },
  {
   "cell_type": "markdown",
   "metadata": {},
   "source": [
    "### Histogram "
   ]
  },
  {
   "cell_type": "code",
   "execution_count": 368,
   "metadata": {},
   "outputs": [
    {
     "data": {
      "text/plain": [
       "array([[<AxesSubplot:title={'center':'Row ID'}>,\n",
       "        <AxesSubplot:title={'center':'Order Date'}>,\n",
       "        <AxesSubplot:title={'center':'Ship Date'}>],\n",
       "       [<AxesSubplot:title={'center':'Sales'}>,\n",
       "        <AxesSubplot:title={'center':'Quantity'}>,\n",
       "        <AxesSubplot:title={'center':'Discount'}>],\n",
       "       [<AxesSubplot:title={'center':'Profit'}>, <AxesSubplot:>,\n",
       "        <AxesSubplot:>]], dtype=object)"
      ]
     },
     "execution_count": 368,
     "metadata": {},
     "output_type": "execute_result"
    },
    {
     "data": {
      "image/png": "[encoded data removed]",
      "text/plain": [
       "<Figure size 1440x1080 with 9 Axes>"
      ]
     },
     "metadata": {
      "needs_background": "light"
     },
     "output_type": "display_data"
    }
   ],
   "source": [
    "## histogram map \n",
    "%matplotlib inline\n",
    "from matplotlib import pyplot as plt\n",
    "df.hist(figsize=(20, 15))"
   ]
  },
  {
   "cell_type": "markdown",
   "metadata": {},
   "source": [
    "### Boxplot "
   ]
  },
  {
   "cell_type": "code",
   "execution_count": 369,
   "metadata": {},
   "outputs": [
    {
     "data": {
      "image/png": "[encoded data removed]",
      "text/plain": [
       "<Figure size 720x576 with 1 Axes>"
      ]
     },
     "metadata": {
      "needs_background": "light"
     },
     "output_type": "display_data"
    },
    {
     "data": {
      "image/png": "[encoded data removed]",
      "text/plain": [
       "<Figure size 720x576 with 1 Axes>"
      ]
     },
     "metadata": {
      "needs_background": "light"
     },
     "output_type": "display_data"
    },
    {
     "data": {
      "image/png": "[encoded data removed]",
      "text/plain": [
       "<Figure size 720x576 with 1 Axes>"
      ]
     },
     "metadata": {
      "needs_background": "light"
     },
     "output_type": "display_data"
    },
    {
     "data": {
      "image/png": "[encoded data removed]",
      "text/plain": [
       "<Figure size 720x576 with 1 Axes>"
      ]
     },
     "metadata": {
      "needs_background": "light"
     },
     "output_type": "display_data"
    }
   ],
   "source": [
    "numberical_features=['Sales','Profit','Discount','Quantity']\n",
    "for feature in numberical_features: \n",
    "    plt.figure(figsize=(10,8))\n",
    "    ax= sns.boxplot(x= df[feature])\n",
    "    ax.set_title(\"Boxplot Of {}\".format(feature))\n",
    "    plt.show()\n",
    "\n",
    "               \n",
    "               "
   ]
  },
  {
   "cell_type": "markdown",
   "metadata": {},
   "source": [
    "### Insights & Recommendation:\n",
    "- It is evident that all variables have extreme values ( those below and upper the whisker of the boxplots), however, I decided to keep these extreme values because they are not invalid inputs or illogical data points, and unprofitable orders (negative orders) should be through investigated to discover the reasons behind those. \n",
    "- Only a few orders have the quantity >10, this could come from a small fraction of bulk buyers such as corporate consumer. Action: Investigate that how many % these bulk buyers contribute to our sales, what are their favorite products, and are their favorite products are high-margin. If not, develop cross-selling campaigns to sell their favorite products with a high-margin products/ slow-moving products. Discover their purchasing behaviors to develop special occassions loyalty programs for them. \n",
    "- Most of our discount are small (from 0%-50%), only a small fraction of them are 60-80%. Action: Identify orders, and customers that use these extreme vouchers, and determine whether that small fraction of customers with large percent of discount accounted for unprofitable orders. If yes, figure out these customers are one-time purchasers that only buy with vouchers, or loyal customers that come back regularly, and what are the products in their orders. Calculate customer lifetime value, and their contribution to our sales, to determine if they are worth keeping with the cost of maintaining them (voucher cost)\n",
    "- Column Sales & Profit also have some extreme values on the lower end, and the higher end. Action: Group those high-performing orders (high sales, high profit) together to identify key sales trends, and examine unprofitable orders to find out the cause of lossing. "
   ]
  },
  {
   "cell_type": "markdown",
   "metadata": {},
   "source": [
    "### Correlation Matrix "
   ]
  },
  {
   "cell_type": "code",
   "execution_count": 370,
   "metadata": {},
   "outputs": [
    {
     "data": {
      "image/png": "[encoded data removed]",
      "text/plain": [
       "<Figure size 864x720 with 2 Axes>"
      ]
     },
     "metadata": {
      "needs_background": "light"
     },
     "output_type": "display_data"
    }
   ],
   "source": [
    "# Select only numeric columns\n",
    "numeric_df = df.select_dtypes(include=[np.number])\n",
    "\n",
    "# Compute correlation matrix\n",
    "corr_matrix = numeric_df.corr()\n",
    "\n",
    "# Plot correlation heatmap\n",
    "plt.figure(figsize=(12, 10))\n",
    "sns.heatmap(corr_matrix, annot=True, cmap='coolwarm', linewidths=0.5)\n",
    "plt.title('Correlation Heatmap')\n",
    "plt.show()"
   ]
  },
  {
   "cell_type": "markdown",
   "metadata": {},
   "source": [
    "### Inferences From Correlation Matrix\n",
    "- By giving away discount vouchers, we are encouraging customers to buy a little more ( Discount is positively correlated with Quanitty). However, Discount has negative impacts on Sales, and Profit, suggesting that, while we are selling more, we are not earning much. This could be because customers only buy when there are vouchers, or we give out vouchers too broadly (issuing vouchers for low-margin products, one-time purchase, low-value customers, all year-round). We will dive deep into the scatter plot of profit against discount, sales, and quantity to have a clearer picture of how these variables are correlated. "
   ]
  },
  {
   "cell_type": "markdown",
   "metadata": {},
   "source": [
    "### Scatterplot Of Proft Against Discount, Sales, And Quantity"
   ]
  },
  {
   "cell_type": "code",
   "execution_count": 371,
   "metadata": {},
   "outputs": [
    {
     "data": {
      "image/png": "[encoded data removed]",
      "text/plain": [
       "<Figure size 576x360 with 1 Axes>"
      ]
     },
     "metadata": {
      "needs_background": "light"
     },
     "output_type": "display_data"
    },
    {
     "data": {
      "image/png": "[encoded data removed]",
      "text/plain": [
       "<Figure size 576x360 with 1 Axes>"
      ]
     },
     "metadata": {
      "needs_background": "light"
     },
     "output_type": "display_data"
    },
    {
     "data": {
      "image/png": "[encoded data removed]",
      "text/plain": [
       "<Figure size 576x360 with 1 Axes>"
      ]
     },
     "metadata": {
      "needs_background": "light"
     },
     "output_type": "display_data"
    }
   ],
   "source": [
    "feature_name=['Sales','Quantity','Discount']\n",
    "for feature in feature_name: \n",
    "    plt.figure(figsize=(8,5))\n",
    "    ax= sns.scatterplot(y=df['Profit'],x=df[feature])\n",
    "    ax.set_title(\"Scatter Plot Of Profit Against {}\".format(feature))\n",
    "    plt.show()"
   ]
  },
  {
   "cell_type": "markdown",
   "metadata": {},
   "source": [
    "### Scatter Plot Intepretation: \n",
    "- Most of order made a revenue under (<5000), and earned a profit of under (4000), with some orders with high sales up to 20000, end up in having negative profit \n",
    "- High quantity doesnt guarantee high profit, as bulk-buying orders with quanityt > 6 end up having loss => Discount vouchers may be given a large rate for large orders, products in large orders have slim margin\n",
    "- Products are highly sensitive to discount, and start incurring loss at a discount rate of 10%=> Products may already have thin margin, and the discount vouchers are applying to broadly \n"
   ]
  },
  {
   "cell_type": "markdown",
   "metadata": {},
   "source": [
    "### Recommendations: \n",
    "**1. Review Pricing And Discount Strategy:**\n",
    "- Analyze the profit margins of different product categories and set a minimum price threshold to avoid loss-making discounts\n",
    "- Evaluate the impact of discount, does the discount build long-term relationship with high-value customers, or only push one-time sales? \n",
    "**2. Optimize Bulk Purchase Policies:**\n",
    "= Investigate if bulk-buying cusotomers contribute a big part to our revenue, if so, try and replace flat discount vouchers with cross-selling strategies for co-purchasing products using Market Basket Analysis, and other resource-friendly such as loyalty points \n",
    "- **3. Focus On Impactful Products**\n",
    "- Cut costs by focusing on impactful products that have high sales & high-margin, and is performing consistently throughout the year. We'll implement a Cohort Analysis to see how different product strategies perform every month of the year\n",
    "- **4. Refine Discount Implementation:**\n",
    "-  Only apply discounts to items with higher profit margins and avoid excessive discounts on low-margin items.\n",
    "- **4. Investigate Cost Structure:**\n",
    "- If high-revenue orders result in losses, investigate factors such as shipping, packaging, and operational costs that might be eating into profits."
   ]
  },
  {
   "cell_type": "markdown",
   "metadata": {},
   "source": [
    "### Key Metric Calculation"
   ]
  },
  {
   "cell_type": "code",
   "execution_count": 372,
   "metadata": {},
   "outputs": [
    {
     "name": "stdout",
     "output_type": "stream",
     "text": [
      "The Average Profit Margin Across All Categories : 12.031392972104458\n"
     ]
    }
   ],
   "source": [
    "# profit margin \n",
    "df['Profit Margin']= (df['Profit']/df['Sales']) *100\n",
    "print(\"The Average Profit Margin Across All Categories :\", df['Profit Margin'].mean())"
   ]
  },
  {
   "cell_type": "code",
   "execution_count": 373,
   "metadata": {},
   "outputs": [
    {
     "name": "stdout",
     "output_type": "stream",
     "text": [
      "The Average Price Across Categories : 60.91956905143086\n"
     ]
    }
   ],
   "source": [
    "# Cost Of Product \n",
    "df['Price']= df['Sales']/df['Quantity']\n",
    "print(\"The Average Price Across Categories :\", df['Price'].mean())\n"
   ]
  },
  {
   "cell_type": "code",
   "execution_count": 374,
   "metadata": {},
   "outputs": [
    {
     "name": "stdout",
     "output_type": "stream",
     "text": [
      "Average Delivery Time:  3 days 22:59:46.311787072\n"
     ]
    }
   ],
   "source": [
    "# delivery time\n",
    "df['Delivery Time']= df['Ship Date'] - df['Order Date']\n",
    "print(\"Average Delivery Time: \", df['Delivery Time'].mean())"
   ]
  },
  {
   "cell_type": "markdown",
   "metadata": {},
   "source": [
    "### Delivery Time Analysis \n"
   ]
  },
  {
   "cell_type": "code",
   "execution_count": 375,
   "metadata": {},
   "outputs": [
    {
     "data": {
      "text/html": [
       "<div>\n",
       "<style scoped>\n",
       "    .dataframe tbody tr th:only-of-type {\n",
       "        vertical-align: middle;\n",
       "    }\n",
       "\n",
       "    .dataframe tbody tr th {\n",
       "        vertical-align: top;\n",
       "    }\n",
       "\n",
       "    .dataframe thead th {\n",
       "        text-align: right;\n",
       "    }\n",
       "</style>\n",
       "<table border=\"1\" class=\"dataframe\">\n",
       "  <thead>\n",
       "    <tr style=\"text-align: right;\">\n",
       "      <th></th>\n",
       "      <th>Ship Mode</th>\n",
       "      <th>Delivery Time</th>\n",
       "    </tr>\n",
       "  </thead>\n",
       "  <tbody>\n",
       "    <tr>\n",
       "      <th>0</th>\n",
       "      <td>First Class</td>\n",
       "      <td>2 days 04:23:05.695708712</td>\n",
       "    </tr>\n",
       "    <tr>\n",
       "      <th>1</th>\n",
       "      <td>Same Day</td>\n",
       "      <td>0 days 01:03:38.784530386</td>\n",
       "    </tr>\n",
       "    <tr>\n",
       "      <th>2</th>\n",
       "      <td>Second Class</td>\n",
       "      <td>3 days 05:42:47.197943444</td>\n",
       "    </tr>\n",
       "    <tr>\n",
       "      <th>3</th>\n",
       "      <td>Standard Class</td>\n",
       "      <td>5 days 00:09:24.611260053</td>\n",
       "    </tr>\n",
       "  </tbody>\n",
       "</table>\n",
       "</div>"
      ],
      "text/plain": [
       "        Ship Mode             Delivery Time\n",
       "0     First Class 2 days 04:23:05.695708712\n",
       "1        Same Day 0 days 01:03:38.784530386\n",
       "2    Second Class 3 days 05:42:47.197943444\n",
       "3  Standard Class 5 days 00:09:24.611260053"
      ]
     },
     "execution_count": 375,
     "metadata": {},
     "output_type": "execute_result"
    }
   ],
   "source": [
    "delivery_time_per_ship_mode= df.groupby('Ship Mode', as_index= False)['Delivery Time'].mean()\n",
    "delivery_time_per_ship_mode.head() # print out a summary "
   ]
  },
  {
   "cell_type": "code",
   "execution_count": 376,
   "metadata": {},
   "outputs": [
    {
     "data": {
      "image/png": "[encoded data removed]",
      "text/plain": [
       "<Figure size 720x576 with 1 Axes>"
      ]
     },
     "metadata": {
      "needs_background": "light"
     },
     "output_type": "display_data"
    }
   ],
   "source": [
    "# plot the barplot \n",
    "# turn delivery time into numeric \n",
    "delivery_time_per_ship_mode['Delivery Time']= pd.to_numeric(delivery_time_per_ship_mode['Delivery Time'])\n",
    "plt.figure(figsize=(10,8))\n",
    "# x must be something numeric, y must be something categorical \n",
    "sns.barplot(x='Delivery Time', y='Ship Mode', data= delivery_time_per_ship_mode)\n",
    "plt.title('Average Delivery Time By Ship Mode (days)')\n",
    "plt.xlabel('Average Delivery Time ')\n",
    "plt.ylabel('Ship Mode')\n",
    "plt.show()"
   ]
  },
  {
   "cell_type": "code",
   "execution_count": 377,
   "metadata": {},
   "outputs": [
    {
     "name": "stdout",
     "output_type": "stream",
     "text": [
      "        Ship Mode  Order ID\n",
      "0     First Class      1538\n",
      "1        Same Day       543\n",
      "2    Second Class      1945\n",
      "3  Standard Class      5968\n"
     ]
    }
   ],
   "source": [
    "# most orders are from which ship mode? \n",
    "order_by_ship_mode= df.groupby('Ship Mode', as_index= False)['Order ID'].count()\n",
    "print(order_by_ship_mode.head())"
   ]
  },
  {
   "cell_type": "markdown",
   "metadata": {},
   "source": [
    "### Insights: \n",
    "- Most of orders are delivered by standard class ( the longest delivery ship mode in all 4), usually takes 4-5 days to delivery to customers, and a large fraction of our products are clothing, and everyday products. This can discourage customers to buy from us. **Action** Collect feedbacks of customers on our ship mode, and investigate the reasons why some distinct product categories take longer to be delivered, and what are the shipping cost, and figure out ways to optimize the delivery time, but don't pressure on the cost. "
   ]
  },
  {
   "cell_type": "markdown",
   "metadata": {},
   "source": [
    "### Discount Effectiveness Analysis \n",
    "**Objectives:**\n",
    "- Evaluate the impact of discount levels on profitability and revenue.\n",
    "- Identify price-sensitive products, especially those with negative profit margins when discounts exceed 20%.\n",
    "- Analyze customer behavior to find segments that frequently apply discounts above 20%.\n",
    "- Calculate the average loss per order when high discounts are applied, comparing it to the increase in sales volume and revenue.\n",
    "- Provide insights to optimize discount strategies, minimizing losses while maintaining growth.\n",
    "- **Approach:**\n",
    "- Heatmap Analysis: Assess how different product segments react to various discount levels.\n",
    "- Identifying Price-Sensitive Products: Detect products that become unprofitable when discounts exceed 20%.\n",
    "- Customer Behavior Analysis: Identify customers who frequently use high discounts and evaluate their long-term value.\n",
    "- Discount Impact Evaluation: Compare revenue growth against the average loss per order to measure the true effectiveness of discount campaigns."
   ]
  },
  {
   "cell_type": "markdown",
   "metadata": {},
   "source": [
    "### Evaluate The Impact Of Voucher Levels On Different Product Categories "
   ]
  },
  {
   "cell_type": "code",
   "execution_count": 378,
   "metadata": {},
   "outputs": [],
   "source": [
    "# set up discount bins \n",
    "def categorize_discount(discount): \n",
    "    if discount ==0: \n",
    "        return \"No Discount\"\n",
    "    elif discount <=0.1: \n",
    "        return \"Low Discount\"\n",
    "    elif discount <= 0.2:\n",
    "        return \"Medium Discount\"\n",
    "    else: \n",
    "        return \"High Discount (>20%)\"\n"
   ]
  },
  {
   "cell_type": "code",
   "execution_count": 379,
   "metadata": {},
   "outputs": [],
   "source": [
    "df['Discount Category']= df['Discount'].apply(categorize_discount)"
   ]
  },
  {
   "cell_type": "code",
   "execution_count": 380,
   "metadata": {},
   "outputs": [
    {
     "name": "stdout",
     "output_type": "stream",
     "text": [
      "      Discount Category     Profit\n",
      "0  High Discount (>20%) -97.183098\n",
      "1          Low Discount  96.055074\n",
      "2       Medium Discount  24.738824\n",
      "3           No Discount  66.900292\n"
     ]
    }
   ],
   "source": [
    "# group orders by discount categpry\n",
    "average_profit_per_discount_level = df.groupby('Discount Category')['Profit'].mean().reset_index()\n",
    "print(average_profit_per_discount_level)"
   ]
  },
  {
   "cell_type": "code",
   "execution_count": 381,
   "metadata": {},
   "outputs": [
    {
     "name": "stdout",
     "output_type": "stream",
     "text": [
      "Discount Category  High Discount (>20%)  Low Discount  Medium Discount  \\\n",
      "Category                                                                 \n",
      "Furniture                    -39.850848     13.157895         6.866787   \n",
      "Office Supplies             -122.151961     24.930556        23.158791   \n",
      "Technology                   -26.999165     32.777778        11.052319   \n",
      "\n",
      "Discount Category  No Discount  \n",
      "Category                        \n",
      "Furniture            29.001196  \n",
      "Office Supplies      36.711090  \n",
      "Technology           28.925570  \n"
     ]
    }
   ],
   "source": [
    "# group product categories by mean profit, and discount levels \n",
    "# khi chạy hàm, thì sẽ từ trái-> phải, nhóm discount category trước, chia nhỏ theo cat\n",
    "# su dung unstack để biến đổi dữ liệu -> dataframe -> heatmap\n",
    "product_by_discount = df.groupby(['Category', 'Discount Category'])['Profit Margin'].mean().unstack()\n",
    "print(product_by_discount)\n"
   ]
  },
  {
   "cell_type": "code",
   "execution_count": 382,
   "metadata": {},
   "outputs": [
    {
     "data": {
      "image/png": "[encoded data removed]",
      "text/plain": [
       "<Figure size 720x576 with 2 Axes>"
      ]
     },
     "metadata": {
      "needs_background": "light"
     },
     "output_type": "display_data"
    }
   ],
   "source": [
    "# identify customers with high voucher rates by product categories \n",
    "# build heatmap \n",
    "plt.figure(figsize=(10,8))\n",
    "sns.heatmap(product_by_discount, cmap='coolwarm', annot= True, fmt=\".2f\", linewidths=0.5) \n",
    "plt.show()"
   ]
  },
  {
   "cell_type": "markdown",
   "metadata": {},
   "source": [
    "### Insights & Recommendations: \n",
    "- All product categories are senstive with discount> 20%, and profit margin becomes negative. \n",
    "=> **Action**: Our discount threeshold will be 20%, and we will only give out vouchers below that threehsold to maitain proftiability\n",
    "- Furniture is most voucher-sensitve across all three categories, because compared with two others, they have much lower profit margin when discount vouchers are applied => **Action**: Limit vouchers for this category \n"
   ]
  },
  {
   "cell_type": "markdown",
   "metadata": {},
   "source": [
    "### Cost-Benefit Analysis Of Discount Vouchers "
   ]
  },
  {
   "cell_type": "code",
   "execution_count": 383,
   "metadata": {},
   "outputs": [
    {
     "name": "stdout",
     "output_type": "stream",
     "text": [
      " Contributing Of Sales Of Product Categories Per Discount Level Discount Category\n",
      "High Discount (>20%)    3.627701e+05\n",
      "Low Discount            5.436935e+04\n",
      "Medium Discount         7.921529e+05\n",
      "No Discount             1.087908e+06\n",
      "Name: Sales, dtype: float64\n"
     ]
    }
   ],
   "source": [
    "# Tính tổng doanh thu & số lượng bán theo từng mức giảm giá\n",
    "sales_by_discount = df.groupby('Discount Category')['Sales'].sum()\n",
    "print(\" Contributing Of Sales Of Product Categories Per Discount Level\", sales_by_discount)"
   ]
  },
  {
   "cell_type": "code",
   "execution_count": 384,
   "metadata": {},
   "outputs": [
    {
     "name": "stdout",
     "output_type": "stream",
     "text": [
      " Contributing Of Loss Of Product Categories Per Discount Level Discount Category\n",
      "High Discount (>20%)    81.372451\n",
      "Low Discount             3.055556\n",
      "Medium Discount         13.800578\n",
      "Name: Profit Margin, dtype: float64\n"
     ]
    }
   ],
   "source": [
    "# Tính mức lỗ trung bình trên đơn hàng (chỉ tính khi Profit Margin < 0)\n",
    "loss_per_order = df[df['Profit Margin'] < 0].groupby('Discount Category')['Profit Margin'].mean().abs()\n",
    "print(\" Contributing Of Loss Of Product Categories Per Discount Level\", loss_per_order)"
   ]
  },
  {
   "cell_type": "code",
   "execution_count": 385,
   "metadata": {},
   "outputs": [
    {
     "name": "stdout",
     "output_type": "stream",
     "text": [
      "Discount Category\n",
      "High Discount (>20%)    4458.498993\n",
      "Low Discount              11.323679\n",
      "Medium Discount         5541.046057\n",
      "No Discount                     NaN\n",
      "dtype: float64\n"
     ]
    }
   ],
   "source": [
    "# Tính số lượng cần bán để hòa vốn (chỉ tính nếu có lỗ)\n",
    "quantity_by_discount = df.groupby('Discount Category')['Quantity'].sum()\n",
    "profit_per_unit = df[df['Profit Margin'] > 0].groupby('Discount Category')['Profit'].mean()\n",
    "break_even_qty = (loss_per_order * quantity_by_discount) / profit_per_unit\n",
    "print(break_even_qty)"
   ]
  },
  {
   "cell_type": "code",
   "execution_count": 386,
   "metadata": {},
   "outputs": [],
   "source": [
    "# Tính Profit Margin trung bình theo từng mức giảm giá\n",
    "profit_margin_by_discount = df.groupby('Discount Category')['Profit Margin'].mean()"
   ]
  },
  {
   "cell_type": "code",
   "execution_count": 387,
   "metadata": {},
   "outputs": [
    {
     "name": "stdout",
     "output_type": "stream",
     "text": [
      "                      Total Sales ($)  Total Quantity Sold  \\\n",
      "Discount Category                                            \n",
      "High Discount (>20%)     3.627701e+05                 5375   \n",
      "Low Discount             5.436935e+04                  373   \n",
      "Medium Discount          7.921529e+05                13858   \n",
      "No Discount              1.087908e+06                18267   \n",
      "\n",
      "                      Avg. Profit Margin  Avg. Loss per Order ($)  \\\n",
      "Discount Category                                                   \n",
      "High Discount (>20%)          -78.448923                81.372451   \n",
      "Low Discount                   15.579196                 3.055556   \n",
      "Medium Discount                17.483863                13.800578   \n",
      "No Discount                    34.016048                      NaN   \n",
      "\n",
      "                      Break-even Quantity  \n",
      "Discount Category                          \n",
      "High Discount (>20%)          4458.498993  \n",
      "Low Discount                    11.323679  \n",
      "Medium Discount               5541.046057  \n",
      "No Discount                           NaN  \n"
     ]
    }
   ],
   "source": [
    "# Tổng hợp kết quả\n",
    "result = pd.DataFrame({\n",
    "    'Total Sales ($)': sales_by_discount,\n",
    "    'Total Quantity Sold': quantity_by_discount,\n",
    "    'Avg. Profit Margin': profit_margin_by_discount,\n",
    "    'Avg. Loss per Order ($)': loss_per_order,\n",
    "    'Break-even Quantity': break_even_qty\n",
    "})\n",
    "\n",
    "# Hiển thị kết quả\n",
    "print(result)"
   ]
  },
  {
   "cell_type": "code",
   "execution_count": 388,
   "metadata": {},
   "outputs": [
    {
     "name": "stdout",
     "output_type": "stream",
     "text": [
      "                           Total_Sales                               \\\n",
      "Discount Category High Discount (>20%) Low Discount Medium Discount   \n",
      "Category                                                              \n",
      "Furniture                  195150.7408    46634.247     244189.5375   \n",
      "Office Supplies             39523.1470     4324.149     233049.7360   \n",
      "Technology                 128096.2620     3410.955     314913.6160   \n",
      "\n",
      "                               Total_Quantity_Sold               \\\n",
      "Discount Category No Discount High Discount (>20%) Low Discount   \n",
      "Category                                                          \n",
      "Furniture           256025.27                 2057          313   \n",
      "Office Supplies     442150.00                 2691           55   \n",
      "Technology          389733.20                  627            5   \n",
      "\n",
      "                                                 Avg_Profit_Margin  \\\n",
      "Discount Category Medium Discount No Discount High Discount (>20%)   \n",
      "Category                                                             \n",
      "Furniture                    2434        3224           -39.850848   \n",
      "Office Supplies              8274       11886          -122.151961   \n",
      "Technology                   3150        3157           -26.999165   \n",
      "\n",
      "                                                            \\\n",
      "Discount Category Low Discount Medium Discount No Discount   \n",
      "Category                                                     \n",
      "Furniture            13.157895        6.866787   29.001196   \n",
      "Office Supplies      24.930556       23.158791   36.711090   \n",
      "Technology           32.777778       11.052319   28.925570   \n",
      "\n",
      "                    Avg_Loss_per_Order                               \\\n",
      "Discount Category High Discount (>20%) Low Discount Medium Discount   \n",
      "Category                                                              \n",
      "Furniture                   103.492708       7.3186       34.787855   \n",
      "Office Supplies              69.323732          NaN       45.995733   \n",
      "Technology                  261.237221          NaN       13.426692   \n",
      "\n",
      "                               Break_even_Quantity               \\\n",
      "Discount Category No Discount High Discount (>20%) Low Discount   \n",
      "Category                                                          \n",
      "Furniture                 NaN                  NaN        -76.0   \n",
      "Office Supplies           NaN                  NaN        -16.0   \n",
      "Technology                NaN                  NaN         -2.0   \n",
      "\n",
      "                                               \n",
      "Discount Category Medium Discount No Discount  \n",
      "Category                                       \n",
      "Furniture                  -667.0      -836.0  \n",
      "Office Supplies           -2201.0     -3129.0  \n",
      "Technology                 -841.0      -833.0  \n"
     ]
    }
   ],
   "source": [
    "# Group by Category & Discount Category\n",
    "category_discount_analysis = df.groupby(['Category', 'Discount Category']).agg(\n",
    "    Total_Sales=('Sales', 'sum'),\n",
    "    Total_Quantity_Sold=('Quantity', 'sum'),\n",
    "    Avg_Profit_Margin=('Profit Margin', 'mean'),\n",
    "    Avg_Loss_per_Order=('Profit', lambda x: -x[x < 0].mean()),\n",
    "    Break_even_Quantity=('Profit', lambda x: -x.sum() / x.mean() if x.mean() > 0 else np.nan)\n",
    ").reset_index()\n",
    "\n",
    "# Pivot the table for easier readability\n",
    "category_discount_pivot = category_discount_analysis.pivot(index='Category', columns='Discount Category')\n",
    "\n",
    "# Display results\n",
    "print(category_discount_pivot)\n"
   ]
  },
  {
   "cell_type": "markdown",
   "metadata": {},
   "source": [
    "### Discount Strategy Analysis & Recommendations\n",
    "### 1. Overall Insights from Cost-Benefit Analysis of Discount Levels\n",
    "- High Discount (>20%) leads to severe profit loss across all categories. The negative profit margin (-78.45%) indicates that these discounts are unsustainable unless they drive significant volume increases. The break-even quantity is extremely high (4,458+ units), making it difficult to recover losses.  \n",
    "- Medium Discount (10-20%) appears to be the optimal range, balancing increased sales volume with positive profit margins (17.48%). It generates the highest revenue ($792,152) without severe losses.  \n",
    "- Low Discount (<10%) maintains profitability but has a limited impact on sales volume. While it retains a positive profit margin (15.58%), the revenue is much lower compared to Medium and No Discount categories.  \n",
    "- No Discount generates the highest profit margin (34.02%) and revenue ($1.08M), proving that many products sell well without discounts.  \n",
    "\n",
    "### Actions: \n",
    "- Investigate what are product lines that sell well without discount\n",
    "- Shift the focus to medium discount to attract first time purchase, and then switch to loyalty programs\n",
    "- Investigate what are the users of high discount vouchers, and do they make repeated purchases, and what are their contribution to our revenue? If they do make repeated purchases, we should switch high discount to loyalty programs like bonus points.\n",
    "- Investigate the high-voucher group of products, and observe the profitability of them\n"
   ]
  },
  {
   "cell_type": "markdown",
   "metadata": {},
   "source": [
    "### 2. Category-Specific Analysis  \n",
    "\n",
    "### Furniture\n",
    "- High Discount (-39.85% profit margin) is extremely unprofitable and requires selling 667-836 additional units just to break even.  \n",
    "- Medium Discount is more sustainable, as it generates $244K in revenue while maintaining a reasonable sales volume.  \n",
    "- No Discount has the highest profitability ($322K) despite lower sales volume, indicating that customers are willing to pay full price for quality furniture.  \n",
    "\n",
    "#### Recommendation  \n",
    "Limit deep discounts on furniture. If discounts are necessary, keep them within the 10-20% range and focus on value-added promotions like free delivery or assembly services.  \n",
    "\n",
    "### Office Supplies\n",
    "- High Discount is the worst-performing strategy (-122.15% profit margin), leading to heavy losses. The break-even quantity (2,200-3,129 units) is too high to justify such discounts.  \n",
    "- Medium Discount generates the highest sales volume (8,274 units), suggesting that a 10-20% discount is effective in driving demand without excessive losses.  \n",
    "- No Discount still achieves strong sales ($118K), proving that many office supplies can sell at full price.  \n",
    "\n",
    "#### Recommendation  \n",
    "Avoid High Discounts and focus on Medium Discounts. Instead of price cuts, consider bulk purchase incentives (e.g., \"Buy 3, Get 1 Free\") to maintain profitability while encouraging larger orders.  \n",
    "\n",
    "\n",
    "### Technology\n",
    "- High Discount (-26.99% profit margin) is slightly better compared to other categories but still leads to losses.  \n",
    "- Medium Discount and No Discount perform similarly in revenue ($314K vs. $315K), suggesting that customers do not require heavy discounts to purchase tech products.  \n",
    "- Break-even quantity (833-841 units) is lower than in other categories, meaning the loss from discounts is relatively more manageable.  \n",
    "\n",
    "#### Recommendation  \n",
    "Use High Discounts selectively for older product models or accessories, but avoid heavy discounts on flagship products. Customers are likely to purchase at full price, so focusing on added value (e.g., warranty extension, trade-in programs) is more effective than direct discounts.  \n"
   ]
  },
  {
   "cell_type": "markdown",
   "metadata": {},
   "source": [
    "### 3. Final Action Plan  \n",
    "- Eliminate High Discounts unless clearing old stock.  \n",
    "- Prioritize Medium Discounts (10-20%) for boosting sales without excessive profit loss.  \n",
    "- Use alternative incentives (free shipping, extended warranty, bundle deals) to enhance perceived value without harming profitability.  \n",
    "- Tailor discount strategies to each category—Furniture and Office Supplies should avoid deep discounts, while Technology can use discounts strategically for specific products.  \n",
    "- Develop personalized discount, marketing, and loyalty program for each segment for customers "
   ]
  },
  {
   "cell_type": "markdown",
   "metadata": {},
   "source": [
    "### Analyzing Customers Receiving High Discounts (>=20%)"
   ]
  },
  {
   "cell_type": "code",
   "execution_count": 389,
   "metadata": {},
   "outputs": [],
   "source": [
    "# Identify orders with discount > 20%\n",
    "high_discount_orders = df[df['Discount'] > 0.2]"
   ]
  },
  {
   "cell_type": "code",
   "execution_count": 390,
   "metadata": {},
   "outputs": [
    {
     "name": "stdout",
     "output_type": "stream",
     "text": [
      "Total Sales Contribution from High-Discount Customers: 15.79%\n"
     ]
    }
   ],
   "source": [
    "# Total revenue contribution from this group\n",
    "high_discount_sales = high_discount_orders['Sales'].sum()\n",
    "total_sales = df['Sales'].sum()\n",
    "print(f\"Total Sales Contribution from High-Discount Customers: {high_discount_sales/total_sales:.2%}\")\n"
   ]
  },
  {
   "cell_type": "code",
   "execution_count": 391,
   "metadata": {},
   "outputs": [
    {
     "name": "stdout",
     "output_type": "stream",
     "text": [
      "Customer Segment With Highest Discount Rate         Segment        Sales\n",
      "0     Consumer  189222.6950\n",
      "1    Corporate   99372.8823\n",
      "2  Home Office   74174.5725\n"
     ]
    }
   ],
   "source": [
    "# Which customer segments receive the highest discounts?\n",
    "customer_discount_analysis = high_discount_orders.groupby('Segment')['Sales'].sum().reset_index()\n",
    "print(\"Customer Segment With Highest Discount Rate \", customer_discount_analysis)\n",
    "\n"
   ]
  },
  {
   "cell_type": "code",
   "execution_count": 392,
   "metadata": {},
   "outputs": [
    {
     "data": {
      "image/png": "[encoded data removed]",
      "text/plain": [
       "<Figure size 720x432 with 1 Axes>"
      ]
     },
     "metadata": {
      "needs_background": "light"
     },
     "output_type": "display_data"
    }
   ],
   "source": [
    "# Visualization\n",
    "plt.figure(figsize=(10,6))\n",
    "sns.barplot(data=customer_discount_analysis, x='Segment', y='Sales', palette='coolwarm')\n",
    "plt.title('Sales from High-Discount Customers by Segment')\n",
    "plt.ylabel('Total Sales')\n",
    "plt.xlabel('Customer Segment')\n",
    "plt.show()"
   ]
  },
  {
   "cell_type": "markdown",
   "metadata": {},
   "source": [
    "### Further Analysis: Do These Customers Return?\n",
    "- To check if high-discount customers make repeat purchases without discounts:"
   ]
  },
  {
   "cell_type": "code",
   "execution_count": 393,
   "metadata": {},
   "outputs": [
    {
     "name": "stdout",
     "output_type": "stream",
     "text": [
      "Percentage of High-Discount Customers Who Returned Without Discount: 95.58%\n"
     ]
    }
   ],
   "source": [
    "# Identify customers who received high discounts\n",
    "high_discount_customers = high_discount_orders['Customer ID'].unique()\n",
    "\n",
    "# Check if they return for purchases without discounts\n",
    "repeat_purchases = df[(df['Customer ID'].isin(high_discount_customers)) & (df['Discount'] == 0)]\n",
    "\n",
    "# Calculate return rate\n",
    "repeat_rate = repeat_purchases['Customer ID'].nunique() / len(high_discount_customers)\n",
    "print(f\"Percentage of High-Discount Customers Who Returned Without Discount: {repeat_rate:.2%}\")\n"
   ]
  },
  {
   "cell_type": "markdown",
   "metadata": {},
   "source": [
    "### Analyzing Orders with 80% Discounts That Caused Losses"
   ]
  },
  {
   "cell_type": "code",
   "execution_count": 394,
   "metadata": {},
   "outputs": [
    {
     "name": "stdout",
     "output_type": "stream",
     "text": [
      "Top 10 Loss-Making Products with 80% Discount:\n",
      "Product Name\n",
      "GBC DocuBind P400 Electric Binding System                                     -5552.8392\n",
      "Fellowes PB500 Electric Punch Plastic Comb Binding Machine with Manual Bind   -3431.6730\n",
      "Ibico EPK-21 Electric Binding System                                          -2929.4845\n",
      "Ibico Hi-Tech Manual Binding System                                           -1601.1975\n",
      "GBC DocuBind TL300 Electric Binding System                                    -1480.0335\n",
      "3.6 Cubic Foot Counter Height Office Refrigerator                             -1378.8216\n",
      "Hoover Upright Vacuum With Dirt Cup                                           -1181.2824\n",
      "GBC ProClick 150 Presentation Binding System                                  -1147.0074\n",
      "GBC Ibimaster 500 Manual ProClick Binding System                              -1141.4700\n",
      "Fellowes PB300 Plastic Comb Binding Machine                                    -512.1468\n",
      "Name: Profit, dtype: float64\n"
     ]
    },
    {
     "data": {
      "image/png": "[encoded data removed]",
      "text/plain": [
       "<Figure size 720x432 with 1 Axes>"
      ]
     },
     "metadata": {
      "needs_background": "light"
     },
     "output_type": "display_data"
    }
   ],
   "source": [
    "# Identify orders with 80% discount and negative profit\n",
    "loss_orders = df[(df['Discount'] >= 0.8) & (df['Profit'] < 0)]\n",
    "\n",
    "# Identify the top loss-making products\n",
    "top_loss_products = loss_orders.groupby('Product Name')['Profit'].sum().sort_values().head(10)\n",
    "print(\"Top 10 Loss-Making Products with 80% Discount:\")\n",
    "print(top_loss_products)\n",
    "\n",
    "# Identify customer segments purchasing these high-discount loss-making products\n",
    "loss_customer_segment = loss_orders.groupby('Segment')['Sales'].sum().reset_index()\n",
    "\n",
    "# Visualization\n",
    "plt.figure(figsize=(10,6))\n",
    "sns.barplot(data=loss_customer_segment, x='Segment', y='Sales', palette='coolwarm')\n",
    "plt.title('Customer Segments Purchasing High Discount (80%) Loss-Making Products')\n",
    "plt.ylabel('Sales from 80% Discount Orders')\n",
    "plt.xlabel('Customer Segment')\n",
    "plt.show()\n"
   ]
  },
  {
   "cell_type": "markdown",
   "metadata": {},
   "source": [
    "### Insights \n",
    "- The majority of customers who receive discount vouchers of 20% or more belong to the Consumer segment, which is also the largest contributor to our total sales. Notably, 95% of these customers return for repeat purchases, indicating strong customer retention. However, a significant portion of these orders operate at a loss, with technological devices being the most frequently purchased items under heavy discounts\n",
    "### This suggests that:\n",
    "\n",
    "- Discounts are driving customer retention, but not profitability.\n",
    "- There may be an issue with pricing or excessive discounting on tech products.\n",
    "- Since customers keep coming back despite heavy discounts, they may be loyal due to factors beyond price—such as service, brand perception, or product ecosystem\n",
    "\n",
    "### Next Actions To Take: \n",
    "- 1. Identify Why Tech Products Are the Biggest Loss-Makers: Analyze the original profit margin of these products—if margins were already low, deep discounts only make things worse\n",
    "- 2. Rethink the Discount Strategy for Tech Products: Instead of retaining customers through discounts, introduce a membership program or cashback system. Since 95% of these customers return, they may continue buying even with reduced discounts.\n"
   ]
  },
  {
   "cell_type": "markdown",
   "metadata": {},
   "source": [
    "### Bulk Order Analysis "
   ]
  },
  {
   "cell_type": "markdown",
   "metadata": {},
   "source": [
    "### Profit Margin Analysis \n",
    "- Calculate sales before applying discount vouchers, and profit margin before discount\n",
    "- The contribution of product category to profit margin \n",
    "- The contribution of high-margin products to our sales \n",
    "- 20% of product that contribute to 80% of our profit \n",
    "- The growth of high-margin products over time \n",
    "- What are the main purchasers of these products"
   ]
  },
  {
   "cell_type": "code",
   "execution_count": 395,
   "metadata": {},
   "outputs": [
    {
     "data": {
      "text/plain": [
       "27.651665135402435"
      ]
     },
     "execution_count": 395,
     "metadata": {},
     "output_type": "execute_result"
    }
   ],
   "source": [
    "# Calculate sales before applying discount vouchers, and profit margin before discount\n",
    "df['Profit Without Discount']= df['Profit'] + df['Sales']* df['Discount']\n",
    "df['Sales Without Discount']= df['Sales']+ df['Sales']\n",
    "df['Profit Margin Without Discount']= df['Profit Without Discount']/ df['Sales'] * 100 \n",
    "df['Profit Margin Without Discount'].mean()"
   ]
  },
  {
   "cell_type": "code",
   "execution_count": 396,
   "metadata": {},
   "outputs": [
    {
     "name": "stdout",
     "output_type": "stream",
     "text": [
      "Category\n",
      "Furniture          21.270621\n",
      "Office Supplies    29.531539\n",
      "Technology         28.846074\n",
      "Name: Profit Margin Without Discount, dtype: float64\n"
     ]
    }
   ],
   "source": [
    "# group products by profit margin to see the high-margin and low-margin products \n",
    "product_by_profit_margin= df.groupby('Category')['Profit Margin Without Discount'].mean()\n",
    "print(product_by_profit_margin)"
   ]
  },
  {
   "cell_type": "code",
   "execution_count": 397,
   "metadata": {},
   "outputs": [
    {
     "data": {
      "image/png": "[encoded data removed]",
      "text/plain": [
       "<Figure size 720x432 with 1 Axes>"
      ]
     },
     "metadata": {
      "needs_background": "light"
     },
     "output_type": "display_data"
    }
   ],
   "source": [
    "# Sort values for better visualization\n",
    "product_by_profit_margin = product_by_profit_margin.sort_values(ascending=False)\n",
    "\n",
    "# Plot the bar chart\n",
    "plt.figure(figsize=(10, 6))\n",
    "sns.barplot(x=product_by_profit_margin.index, y=product_by_profit_margin.values, palette='coolwarm')\n",
    "\n",
    "# Labels and title\n",
    "plt.xlabel(\"Category\")\n",
    "plt.ylabel(\"Average Profit Margin Without Discount (%)\")\n",
    "plt.title(\"Average Profit Margin by Category (Without Discount)\")\n",
    "plt.xticks(rotation=45)\n",
    "plt.grid(axis='y', linestyle='--', alpha=0.7)\n",
    "# Show the plot\n",
    "plt.show()"
   ]
  },
  {
   "cell_type": "markdown",
   "metadata": {},
   "source": [
    "### Overall Insights from Profit Margin Without Discount\n",
    "- Office Supplies have the highest base profit margin (29.53%), followed closely by Technology (28.85%).This suggests that Office Supplies are inherently high-margin products, likely due to their low cost relative to selling price.\n",
    "- Technology products, despite being high-value, still maintain a strong profit margin, possibly due to premium pricing or brand positioning.\n",
    "- Furniture has the lowest base profit margin (21.27%), significantly lower than the other two categories."
   ]
  },
  {
   "cell_type": "markdown",
   "metadata": {},
   "source": [
    "### Actions \n",
    "- Analyze whether high-margin products (Office Supplies and Technology) contribute significantly to total sales. If not, implement cross-selling strategies or bundling campaigns to boost their sales.\n",
    "- Identify key customer characteristics for Office Supplies and Technology, including demographics, purchase frequency, and order value, to optimize marketing strategies.\n",
    "- Reevaluate the pricing strategy for Furniture: explore cost-cutting opportunities (e.g., logistics, supplier negotiations) and consider adjusting pricing. Avoid applying large discounts or vouchers to this category to protect profit margins"
   ]
  },
  {
   "cell_type": "markdown",
   "metadata": {},
   "source": [
    "###  Revenue-specific Analysis\n",
    "- The contribution of product categories to our revenue\n",
    "- The best=selling products (20% of products that contribute to our revenue), are those products equally profitable. If not, then why? \n",
    "- Are those best selling products remain popular through time (Cohort Analysis)"
   ]
  },
  {
   "cell_type": "code",
   "execution_count": 398,
   "metadata": {},
   "outputs": [
    {
     "data": {
      "image/png": "[encoded data removed]",
      "text/plain": [
       "<Figure size 720x360 with 1 Axes>"
      ]
     },
     "metadata": {
      "needs_background": "light"
     },
     "output_type": "display_data"
    }
   ],
   "source": [
    "# ----- 1. Contribution of Product Categories to Revenue -----\n",
    "category_revenue = df.groupby('Category')['Sales'].sum().reset_index()\n",
    "category_revenue = category_revenue.sort_values(by='Sales', ascending=False)\n",
    "\n",
    "plt.figure(figsize=(10, 5))\n",
    "sns.barplot(x='Sales', y='Category', data=category_revenue, palette='Blues_r')\n",
    "plt.title('Revenue Contribution by Category')\n",
    "plt.xlabel('Total Sales')\n",
    "plt.ylabel('Category')\n",
    "plt.show()\n"
   ]
  },
  {
   "cell_type": "code",
   "execution_count": 399,
   "metadata": {},
   "outputs": [
    {
     "data": {
      "image/png": "[encoded data removed]",
      "text/plain": [
       "<Figure size 720x360 with 1 Axes>"
      ]
     },
     "metadata": {
      "needs_background": "light"
     },
     "output_type": "display_data"
    }
   ],
   "source": [
    "# ----- 2. Identifying Best-Selling Products (Pareto Analysis) -----\n",
    "product_sales = df.groupby('Product Name')['Sales'].sum().reset_index()\n",
    "product_sales = product_sales.sort_values(by='Sales', ascending=False)\n",
    "\n",
    "# Calculate cumulative contribution\n",
    "product_sales['Cumulative Sales'] = product_sales['Sales'].cumsum()\n",
    "product_sales['Cumulative Percentage'] = (product_sales['Cumulative Sales'] / product_sales['Sales'].sum()) * 100\n",
    "\n",
    "# Select top 20% products contributing ~80% revenue\n",
    "best_sellers = product_sales[product_sales['Cumulative Percentage'] <= 80]\n",
    "\n",
    "# Compare profitability of best-selling products\n",
    "best_seller_profitability = df[df['Product Name'].isin(best_sellers['Product Name'])].groupby('Product Name')[['Sales', 'Profit']].sum().reset_index()\n",
    "best_seller_profitability['Profit Margin'] = (best_seller_profitability['Profit'] / best_seller_profitability['Sales']) * 100\n",
    "\n",
    "plt.figure(figsize=(10, 5))\n",
    "sns.scatterplot(x='Sales', y='Profit Margin', data=best_seller_profitability, hue='Product Name', legend=False)\n",
    "plt.title('Profitability of Best-Selling Products')\n",
    "plt.xlabel('Total Sales')\n",
    "plt.ylabel('Profit Margin (%)')\n",
    "plt.show()"
   ]
  },
  {
   "cell_type": "markdown",
   "metadata": {},
   "source": [
    "### High-value products\n",
    "- Optimize profit by focusing on products with high-margin, and are popular with customer "
   ]
  },
  {
   "cell_type": "code",
   "execution_count": 400,
   "metadata": {},
   "outputs": [
    {
     "data": {
      "image/png": "[encoded data removed]",
      "text/plain": [
       "<Figure size 720x360 with 1 Axes>"
      ]
     },
     "metadata": {
      "needs_background": "light"
     },
     "output_type": "display_data"
    },
    {
     "name": "stdout",
     "output_type": "stream",
     "text": [
      "High-Value Product Insights:\n",
      "                                          Product Name  Total_Sales  \\\n",
      "173              Canon imageCLASS 2200 Advanced Copier   123199.648   \n",
      "221  Fellowes PB500 Electric Punch Plastic Comb Bin...    50331.204   \n",
      "284               Hewlett Packard LaserJet 3310 Copier    37679.372   \n",
      "294               Ibico EPK-21 Electric Binding System    27971.852   \n",
      "237   GBC Ibimaster 500 Manual ProClick Binding System    24655.752   \n",
      "65                   Ativa V4110MDD Micro-Cut Shredder    15399.780   \n",
      "232          GBC DocuBind P400 Electric Binding System    15243.088   \n",
      "168                 Canon Imageclass D680 Copier / Fax    15119.784   \n",
      "684                  Zebra ZM400 Thermal Label Printer    13931.400   \n",
      "170                 Canon PC1060 Personal Laser Copier    13439.808   \n",
      "\n",
      "     Total_Profit  Avg_Profit_Margin  Revenue_Contribution  \n",
      "173    25199.9280          38.466667              2.681517  \n",
      "221    11184.7120          43.750000              1.095490  \n",
      "284     6983.8836          32.833333              0.820115  \n",
      "294     6274.7668          42.625000              0.608825  \n",
      "237     5859.5460          41.666667              0.536648  \n",
      "65      3772.9461          49.000000              0.335186  \n",
      "232     2477.0018          32.500000              0.331775  \n",
      "168     2169.9690          25.520833              0.329091  \n",
      "684     3343.5360          48.000000              0.303226  \n",
      "170     2267.9676          33.750000              0.292526  \n"
     ]
    }
   ],
   "source": [
    "# Define high-margin threshold (75th percentile of profit margin)\n",
    "high_margin_threshold = df['Profit Margin Without Discount'].quantile(0.75)\n",
    "\n",
    "# Identify high-margin, high-sales products\n",
    "high_value_products = df[(df['Profit Margin Without Discount'] >= high_margin_threshold)]\n",
    "\n",
    "# Aggregate sales and profit data\n",
    "high_value_summary = high_value_products.groupby('Product Name').agg(\n",
    "    Total_Sales=('Sales Without Discount', 'sum'),\n",
    "    Total_Profit=('Profit', 'sum'),\n",
    "    Avg_Profit_Margin=('Profit Margin', 'mean')\n",
    ").reset_index()\n",
    "\n",
    "# Sort by total sales to find best-performing high-margin products\n",
    "high_value_summary = high_value_summary.sort_values(by='Total_Sales', ascending=False)\n",
    "\n",
    "# Calculate revenue contribution\n",
    "total_revenue = df['Sales Without Discount'].sum()\n",
    "high_value_summary['Revenue_Contribution'] = high_value_summary['Total_Sales'] / total_revenue * 100\n",
    "\n",
    "# Plot revenue contribution\n",
    "plt.figure(figsize=(10, 5))\n",
    "sns.barplot(data=high_value_summary.head(10), x='Total_Sales', y='Product Name', palette='Blues_r')\n",
    "plt.xlabel(\"Total Sales\")\n",
    "plt.ylabel(\"Product Name\")\n",
    "plt.title(\"Top 10 High-Margin, High-Sales Products\")\n",
    "plt.show()\n",
    "\n",
    "# Display insights\n",
    "print(\"High-Value Product Insights:\")\n",
    "print(high_value_summary.head(10))\n",
    "\n"
   ]
  },
  {
   "cell_type": "markdown",
   "metadata": {},
   "source": [
    "### Insights & Recommendations: \n",
    "- Technology remains the main contribution of our revenue, followed by furnities, and home offices "
   ]
  },
  {
   "cell_type": "markdown",
   "metadata": {},
   "source": [
    "### Customer Demographics\n",
    "- How each product category performs by customer segments through year? \n",
    "- What are the best-selling products for each customer segment \n",
    "- What are each customer segment favorite time to buy\n",
    "- What are the state, that each customer segment from? \n",
    "- What is the contribution of each customer segment to our revenue? "
   ]
  },
  {
   "cell_type": "code",
   "execution_count": 401,
   "metadata": {},
   "outputs": [],
   "source": [
    "df['Year']= df['Order Date'].dt.year\n",
    "df['Month']= df['Order Date'].dt.month"
   ]
  },
  {
   "cell_type": "code",
   "execution_count": 402,
   "metadata": {},
   "outputs": [
    {
     "name": "stdout",
     "output_type": "stream",
     "text": [
      "        Segment  Year         Category        Sales\n",
      "0      Consumer  2014        Furniture   86060.9736\n",
      "1      Consumer  2014  Office Supplies   84426.7440\n",
      "2      Consumer  2014       Technology   95609.0950\n",
      "3      Consumer  2015        Furniture   94409.9283\n",
      "4      Consumer  2015  Office Supplies   79735.8080\n",
      "5      Consumer  2015       Technology   92390.1970\n",
      "6      Consumer  2016        Furniture  100360.8822\n",
      "7      Consumer  2016  Office Supplies   86269.3290\n",
      "8      Consumer  2016       Technology  110233.6880\n",
      "9      Consumer  2017        Furniture  110217.5279\n",
      "10     Consumer  2017  Office Supplies  113520.2550\n",
      "11     Consumer  2017       Technology  108166.9170\n",
      "12    Corporate  2014        Furniture   45100.2747\n",
      "13    Corporate  2014  Office Supplies   48938.2650\n",
      "14    Corporate  2014       Technology   34396.3340\n",
      "15    Corporate  2015        Furniture   45961.0859\n",
      "16    Corporate  2015  Office Supplies   34901.1630\n",
      "17    Corporate  2015       Technology   47895.0580\n",
      "18    Corporate  2016        Furniture   77261.3408\n",
      "19    Corporate  2016  Office Supplies   54231.2490\n",
      "20    Corporate  2016       Technology   75613.7720\n",
      "21    Corporate  2017        Furniture   60697.0844\n",
      "22    Corporate  2017  Office Supplies   92605.7850\n",
      "23    Corporate  2017       Technology   88544.9550\n",
      "24  Home Office  2014        Furniture   26031.6048\n",
      "25  Home Office  2014  Office Supplies   18411.4030\n",
      "26  Home Office  2014       Technology   45272.8040\n",
      "27  Home Office  2015        Furniture   30147.2228\n",
      "28  Home Office  2015  Office Supplies   22596.4920\n",
      "29  Home Office  2015       Technology   22495.5540\n",
      "30  Home Office  2016        Furniture   21279.2130\n",
      "31  Home Office  2016  Office Supplies   43439.4040\n",
      "32  Home Office  2016       Technology   40516.7200\n",
      "33  Home Office  2017        Furniture   44472.6569\n",
      "34  Home Office  2017  Office Supplies   39971.1350\n",
      "35  Home Office  2017       Technology   75018.9390\n",
      "Index(['Segment', 'Year', 'Category', 'Sales'], dtype='object')\n"
     ]
    }
   ],
   "source": [
    "grouped_data= df.groupby(['Segment','Year','Category'])['Sales'].sum().reset_index()\n",
    "print(grouped_data)\n",
    "print(grouped_data.columns)"
   ]
  },
  {
   "cell_type": "code",
   "execution_count": 403,
   "metadata": {},
   "outputs": [],
   "source": [
    "def plot_sales_trends(customer_segment):\n",
    "    segment_data = grouped_data[grouped_data['Segment'] == customer_segment]\n",
    "    pivot_data = segment_data.pivot(index='Year', columns='Category', values='Sales')\n",
    "    pivot_data.plot(kind='line', marker='o', figsize=(10, 6))\n",
    "    plt.title(f'Sales Trends for {customer_segment}')\n",
    "    plt.xlabel('Year')\n",
    "    plt.ylabel('Total Sales')\n",
    "    plt.grid(True)\n",
    "    plt.legend(title='Product Category')\n",
    "    plt.show()"
   ]
  },
  {
   "cell_type": "code",
   "execution_count": 404,
   "metadata": {},
   "outputs": [
    {
     "data": {
      "image/png": "[encoded data removed]",
      "text/plain": [
       "<Figure size 720x432 with 1 Axes>"
      ]
     },
     "metadata": {
      "needs_background": "light"
     },
     "output_type": "display_data"
    }
   ],
   "source": [
    "plot_sales_trends('Consumer')"
   ]
  },
  {
   "cell_type": "code",
   "execution_count": 405,
   "metadata": {},
   "outputs": [
    {
     "data": {
      "image/png": "[encoded data removed]",
      "text/plain": [
       "<Figure size 720x432 with 1 Axes>"
      ]
     },
     "metadata": {
      "needs_background": "light"
     },
     "output_type": "display_data"
    }
   ],
   "source": [
    "plot_sales_trends('Home Office')"
   ]
  },
  {
   "cell_type": "code",
   "execution_count": 406,
   "metadata": {},
   "outputs": [
    {
     "data": {
      "image/png": "[encoded data removed]",
      "text/plain": [
       "<Figure size 720x432 with 1 Axes>"
      ]
     },
     "metadata": {
      "needs_background": "light"
     },
     "output_type": "display_data"
    }
   ],
   "source": [
    "plot_sales_trends('Corporate')"
   ]
  },
  {
   "cell_type": "code",
   "execution_count": 407,
   "metadata": {},
   "outputs": [],
   "source": [
    "segment_sales = df.groupby('Segment')['Sales'].sum()"
   ]
  },
  {
   "cell_type": "code",
   "execution_count": 408,
   "metadata": {},
   "outputs": [
    {
     "data": {
      "image/png": "[encoded data removed]",
      "text/plain": [
       "<Figure size 576x576 with 1 Axes>"
      ]
     },
     "metadata": {},
     "output_type": "display_data"
    }
   ],
   "source": [
    "plt.figure(figsize=(8, 8))\n",
    "plt.pie(segment_sales, labels=segment_sales.index, autopct='%1.1f%%', colors=plt.cm.Paired.colors)\n",
    "plt.title('Revenue By Customer Segment')\n",
    "plt.show()"
   ]
  },
  {
   "cell_type": "code",
   "execution_count": 409,
   "metadata": {},
   "outputs": [
    {
     "data": {
      "image/png": "[encoded data removed]",
      "text/plain": [
       "<Figure size 864x432 with 1 Axes>"
      ]
     },
     "metadata": {
      "needs_background": "light"
     },
     "output_type": "display_data"
    }
   ],
   "source": [
    "\n",
    "### Best-Selling Products for Each Customer Segment ###\n",
    "top_products = df.groupby(['Segment', 'Product Name']).agg({'Sales': 'sum'}).reset_index()\n",
    "top_products = top_products.sort_values(['Segment', 'Sales'], ascending=[True, False])\n",
    "\n",
    "plt.figure(figsize=(12, 6))\n",
    "sns.barplot(\n",
    "    data=top_products.groupby(\"Segment\").head(5),  # Top 5 per segment\n",
    "    x=\"Sales\",\n",
    "    y=\"Product Name\",\n",
    "    hue=\"Segment\"\n",
    ")\n",
    "plt.title(\"Best-Selling Products per Customer Segment\")\n",
    "plt.xlabel(\"Total Sales\")\n",
    "plt.ylabel(\"Product Name\")\n",
    "plt.legend(title=\"Customer Segment\")\n",
    "plt.show()\n",
    "\n"
   ]
  },
  {
   "cell_type": "code",
   "execution_count": 410,
   "metadata": {},
   "outputs": [
    {
     "name": "stdout",
     "output_type": "stream",
     "text": [
      "     State      Segment      Sales\n",
      "0  Alabama     Consumer   7537.540\n",
      "1  Alabama    Corporate  10969.380\n",
      "2  Alabama  Home Office   1003.720\n",
      "3  Arizona     Consumer  16424.422\n",
      "4  Arizona    Corporate  11736.322\n"
     ]
    }
   ],
   "source": [
    "# bubble chart to visualize revenue of each customer segment by state\n",
    "# group state by customer segment \n",
    "import plotly.express as px \n",
    "segment_revenue_by_state= df.groupby(['State','Segment'])['Sales'].sum().reset_index()\n",
    "print(segment_revenue_by_state.head())"
   ]
  },
  {
   "cell_type": "code",
   "execution_count": 411,
   "metadata": {},
   "outputs": [
    {
     "data": {
      "application/vnd.plotly.v1+json": {
       "config": {
        "plotlyServerURL": "https://plot.ly"
       },
       "data": [
        {
         "hovertemplate": "<b>%{hovertext}</b><br><br>Segment=%{y}<br>State=%{x}<br>Sales=%{marker.size}<extra></extra>",
         "hovertext": [
          "Alabama",
          "Arizona",
          "Arkansas",
          "California",
          "Colorado",
          "Connecticut",
          "Delaware",
          "District of Columbia",
          "Florida",
          "Georgia",
          "Idaho",
          "Illinois",
          "Indiana",
          "Iowa",
          "Kansas",
          "Kentucky",
          "Louisiana",
          "Maryland",
          "Massachusetts",
          "Michigan",
          "Minnesota",
          "Mississippi",
          "Missouri",
          "Montana",
          "Nebraska",
          "Nevada",
          "New Hampshire",
          "New Jersey",
          "New Mexico",
          "New York",
          "North Carolina",
          "North Dakota",
          "Ohio",
          "Oklahoma",
          "Oregon",
          "Pennsylvania",
          "Rhode Island",
          "South Carolina",
          "South Dakota",
          "Tennessee",
          "Texas",
          "Utah",
          "Vermont",
          "Virginia",
          "Washington",
          "West Virginia",
          "Wisconsin"
         ],
         "legendgroup": "Consumer",
         "marker": {
          "color": "#636efa",
          "size": [
           7537.54,
           16424.422,
           8802.01,
           229636.08,
           15794.492,
           5933.477,
           16961.763,
           2753.34,
           32701.196,
           24447.12,
           1444.496,
           45182.195,
           14986.960000000001,
           2100.07,
           697.18,
           20430.72,
           6174.26,
           10054.013,
           11151.54,
           36709.911,
           19235.18,
           7688.58,
           5150.92,
           898.088,
           5261.25,
           6584.414,
           908.6400000000001,
           13333.982,
           2186.324,
           175209.035,
           29997.226,
           891.53,
           43194.024,
           11561.77,
           8893.933,
           66899.293,
           2483.3360000000002,
           5539.75,
           45.730000000000004,
           16578.939,
           95976.378,
           7152.004,
           1352.38,
           35683.63,
           73866.52,
           673.344,
           14232.36
          ],
          "sizemode": "area",
          "sizeref": 91.85443199999999,
          "symbol": "circle"
         },
         "mode": "markers",
         "name": "Consumer",
         "orientation": "v",
         "showlegend": true,
         "type": "scatter",
         "x": [
          "Alabama",
          "Arizona",
          "Arkansas",
          "California",
          "Colorado",
          "Connecticut",
          "Delaware",
          "District of Columbia",
          "Florida",
          "Georgia",
          "Idaho",
          "Illinois",
          "Indiana",
          "Iowa",
          "Kansas",
          "Kentucky",
          "Louisiana",
          "Maryland",
          "Massachusetts",
          "Michigan",
          "Minnesota",
          "Mississippi",
          "Missouri",
          "Montana",
          "Nebraska",
          "Nevada",
          "New Hampshire",
          "New Jersey",
          "New Mexico",
          "New York",
          "North Carolina",
          "North Dakota",
          "Ohio",
          "Oklahoma",
          "Oregon",
          "Pennsylvania",
          "Rhode Island",
          "South Carolina",
          "South Dakota",
          "Tennessee",
          "Texas",
          "Utah",
          "Vermont",
          "Virginia",
          "Washington",
          "West Virginia",
          "Wisconsin"
         ],
         "xaxis": "x",
         "y": [
          "Consumer",
          "Consumer",
          "Consumer",
          "Consumer",
          "Consumer",
          "Consumer",
          "Consumer",
          "Consumer",
          "Consumer",
          "Consumer",
          "Consumer",
          "Consumer",
          "Consumer",
          "Consumer",
          "Consumer",
          "Consumer",
          "Consumer",
          "Consumer",
          "Consumer",
          "Consumer",
          "Consumer",
          "Consumer",
          "Consumer",
          "Consumer",
          "Consumer",
          "Consumer",
          "Consumer",
          "Consumer",
          "Consumer",
          "Consumer",
          "Consumer",
          "Consumer",
          "Consumer",
          "Consumer",
          "Consumer",
          "Consumer",
          "Consumer",
          "Consumer",
          "Consumer",
          "Consumer",
          "Consumer",
          "Consumer",
          "Consumer",
          "Consumer",
          "Consumer",
          "Consumer",
          "Consumer"
         ],
         "yaxis": "y"
        },
        {
         "hovertemplate": "<b>%{hovertext}</b><br><br>Segment=%{y}<br>State=%{x}<br>Sales=%{marker.size}<extra></extra>",
         "hovertext": [
          "Alabama",
          "Arizona",
          "Arkansas",
          "California",
          "Colorado",
          "Connecticut",
          "Delaware",
          "Florida",
          "Georgia",
          "Idaho",
          "Illinois",
          "Indiana",
          "Iowa",
          "Kansas",
          "Kentucky",
          "Louisiana",
          "Maine",
          "Maryland",
          "Massachusetts",
          "Michigan",
          "Minnesota",
          "Mississippi",
          "Missouri",
          "Montana",
          "Nebraska",
          "Nevada",
          "New Hampshire",
          "New Jersey",
          "New Mexico",
          "New York",
          "North Carolina",
          "Ohio",
          "Oklahoma",
          "Oregon",
          "Pennsylvania",
          "Rhode Island",
          "South Carolina",
          "South Dakota",
          "Tennessee",
          "Texas",
          "Utah",
          "Vermont",
          "Virginia",
          "Washington",
          "Wisconsin"
         ],
         "legendgroup": "Corporate",
         "marker": {
          "color": "#EF553B",
          "size": [
           10969.380000000001,
           11736.322,
           2463.78,
           147174.7265,
           9945.912,
           5715.69,
           8311.655999999999,
           22477.5915,
           15982.25,
           2630.25,
           15984.28,
           31788.74,
           911.45,
           898.1800000000001,
           7927.83,
           1882.35,
           1164.45,
           11386.130000000001,
           9639.594000000001,
           23391.553,
           3111.11,
           1362.72,
           10500.43,
           48.188,
           1266.74,
           4802.406,
           968.9,
           18268.19,
           1269.776,
           77951.313,
           18656.746,
           24209.972999999998,
           2569.75,
           6563.97,
           31130.061,
           5381.15,
           2916.04,
           1269.83,
           9745.765000000001,
           53908.1198,
           1956.614,
           6282.24,
           27501.48,
           39727.11,
           12395.630000000001
          ],
          "sizemode": "area",
          "sizeref": 91.85443199999999,
          "symbol": "circle"
         },
         "mode": "markers",
         "name": "Corporate",
         "orientation": "v",
         "showlegend": true,
         "type": "scatter",
         "x": [
          "Alabama",
          "Arizona",
          "Arkansas",
          "California",
          "Colorado",
          "Connecticut",
          "Delaware",
          "Florida",
          "Georgia",
          "Idaho",
          "Illinois",
          "Indiana",
          "Iowa",
          "Kansas",
          "Kentucky",
          "Louisiana",
          "Maine",
          "Maryland",
          "Massachusetts",
          "Michigan",
          "Minnesota",
          "Mississippi",
          "Missouri",
          "Montana",
          "Nebraska",
          "Nevada",
          "New Hampshire",
          "New Jersey",
          "New Mexico",
          "New York",
          "North Carolina",
          "Ohio",
          "Oklahoma",
          "Oregon",
          "Pennsylvania",
          "Rhode Island",
          "South Carolina",
          "South Dakota",
          "Tennessee",
          "Texas",
          "Utah",
          "Vermont",
          "Virginia",
          "Washington",
          "Wisconsin"
         ],
         "xaxis": "x",
         "y": [
          "Corporate",
          "Corporate",
          "Corporate",
          "Corporate",
          "Corporate",
          "Corporate",
          "Corporate",
          "Corporate",
          "Corporate",
          "Corporate",
          "Corporate",
          "Corporate",
          "Corporate",
          "Corporate",
          "Corporate",
          "Corporate",
          "Corporate",
          "Corporate",
          "Corporate",
          "Corporate",
          "Corporate",
          "Corporate",
          "Corporate",
          "Corporate",
          "Corporate",
          "Corporate",
          "Corporate",
          "Corporate",
          "Corporate",
          "Corporate",
          "Corporate",
          "Corporate",
          "Corporate",
          "Corporate",
          "Corporate",
          "Corporate",
          "Corporate",
          "Corporate",
          "Corporate",
          "Corporate",
          "Corporate",
          "Corporate",
          "Corporate",
          "Corporate",
          "Corporate"
         ],
         "yaxis": "y"
        },
        {
         "hovertemplate": "<b>%{hovertext}</b><br><br>Segment=%{y}<br>State=%{x}<br>Sales=%{marker.size}<extra></extra>",
         "hovertext": [
          "Alabama",
          "Arizona",
          "Arkansas",
          "California",
          "Colorado",
          "Connecticut",
          "Delaware",
          "District of Columbia",
          "Florida",
          "Georgia",
          "Idaho",
          "Illinois",
          "Indiana",
          "Iowa",
          "Kansas",
          "Kentucky",
          "Louisiana",
          "Maine",
          "Maryland",
          "Massachusetts",
          "Michigan",
          "Minnesota",
          "Mississippi",
          "Missouri",
          "Montana",
          "Nebraska",
          "Nevada",
          "New Hampshire",
          "New Jersey",
          "New Mexico",
          "New York",
          "North Carolina",
          "North Dakota",
          "Ohio",
          "Oklahoma",
          "Oregon",
          "Pennsylvania",
          "Rhode Island",
          "South Carolina",
          "Tennessee",
          "Texas",
          "Utah",
          "Vermont",
          "Virginia",
          "Washington",
          "West Virginia",
          "Wisconsin",
          "Wyoming"
         ],
         "legendgroup": "Home Office",
         "marker": {
          "color": "#00cc96",
          "size": [
           1003.72,
           7121.257,
           412.34,
           80876.825,
           6367.714,
           1735.19,
           2177.65,
           111.68,
           34294.9205,
           8666.47,
           307.74,
           18999.626,
           6779.66,
           1568.24,
           1318.9499999999998,
           8233.2,
           1160.42,
           106.08000000000001,
           2265.3799999999997,
           7843.3,
           16168.15,
           7516.86,
           1720.04,
           6553.8,
           4643.076,
           936.94,
           5342.281999999999,
           5414.9839999999995,
           4162.139999999999,
           1327.422,
           57715.923,
           6949.192,
           28.38,
           10854.139,
           5551.870000000001,
           1973.247,
           18482.56,
           14763.47,
           25.92,
           4337.169,
           20303.548,
           2111.438,
           1294.75,
           7451.61,
           25047.64,
           536.48,
           5486.62,
           1603.136
          ],
          "sizemode": "area",
          "sizeref": 91.85443199999999,
          "symbol": "circle"
         },
         "mode": "markers",
         "name": "Home Office",
         "orientation": "v",
         "showlegend": true,
         "type": "scatter",
         "x": [
          "Alabama",
          "Arizona",
          "Arkansas",
          "California",
          "Colorado",
          "Connecticut",
          "Delaware",
          "District of Columbia",
          "Florida",
          "Georgia",
          "Idaho",
          "Illinois",
          "Indiana",
          "Iowa",
          "Kansas",
          "Kentucky",
          "Louisiana",
          "Maine",
          "Maryland",
          "Massachusetts",
          "Michigan",
          "Minnesota",
          "Mississippi",
          "Missouri",
          "Montana",
          "Nebraska",
          "Nevada",
          "New Hampshire",
          "New Jersey",
          "New Mexico",
          "New York",
          "North Carolina",
          "North Dakota",
          "Ohio",
          "Oklahoma",
          "Oregon",
          "Pennsylvania",
          "Rhode Island",
          "South Carolina",
          "Tennessee",
          "Texas",
          "Utah",
          "Vermont",
          "Virginia",
          "Washington",
          "West Virginia",
          "Wisconsin",
          "Wyoming"
         ],
         "xaxis": "x",
         "y": [
          "Home Office",
          "Home Office",
          "Home Office",
          "Home Office",
          "Home Office",
          "Home Office",
          "Home Office",
          "Home Office",
          "Home Office",
          "Home Office",
          "Home Office",
          "Home Office",
          "Home Office",
          "Home Office",
          "Home Office",
          "Home Office",
          "Home Office",
          "Home Office",
          "Home Office",
          "Home Office",
          "Home Office",
          "Home Office",
          "Home Office",
          "Home Office",
          "Home Office",
          "Home Office",
          "Home Office",
          "Home Office",
          "Home Office",
          "Home Office",
          "Home Office",
          "Home Office",
          "Home Office",
          "Home Office",
          "Home Office",
          "Home Office",
          "Home Office",
          "Home Office",
          "Home Office",
          "Home Office",
          "Home Office",
          "Home Office",
          "Home Office",
          "Home Office",
          "Home Office",
          "Home Office",
          "Home Office",
          "Home Office"
         ],
         "yaxis": "y"
        }
       ],
       "layout": {
        "legend": {
         "itemsizing": "constant",
         "title": {
          "text": "Segment"
         },
         "tracegroupgap": 0
        },
        "template": {
         "data": {
          "bar": [
           {
            "error_x": {
             "color": "#2a3f5f"
            },
            "error_y": {
             "color": "#2a3f5f"
            },
            "marker": {
             "line": {
              "color": "#E5ECF6",
              "width": 0.5
             },
             "pattern": {
              "fillmode": "overlay",
              "size": 10,
              "solidity": 0.2
             }
            },
            "type": "bar"
           }
          ],
          "barpolar": [
           {
            "marker": {
             "line": {
              "color": "#E5ECF6",
              "width": 0.5
             },
             "pattern": {
              "fillmode": "overlay",
              "size": 10,
              "solidity": 0.2
             }
            },
            "type": "barpolar"
           }
          ],
          "carpet": [
           {
            "aaxis": {
             "endlinecolor": "#2a3f5f",
             "gridcolor": "white",
             "linecolor": "white",
             "minorgridcolor": "white",
             "startlinecolor": "#2a3f5f"
            },
            "baxis": {
             "endlinecolor": "#2a3f5f",
             "gridcolor": "white",
             "linecolor": "white",
             "minorgridcolor": "white",
             "startlinecolor": "#2a3f5f"
            },
            "type": "carpet"
           }
          ],
          "choropleth": [
           {
            "colorbar": {
             "outlinewidth": 0,
             "ticks": ""
            },
            "type": "choropleth"
           }
          ],
          "contour": [
           {
            "colorbar": {
             "outlinewidth": 0,
             "ticks": ""
            },
            "colorscale": [
             [
              0,
              "#0d0887"
             ],
             [
              0.1111111111111111,
              "#46039f"
             ],
             [
              0.2222222222222222,
              "#7201a8"
             ],
             [
              0.3333333333333333,
              "#9c179e"
             ],
             [
              0.4444444444444444,
              "#bd3786"
             ],
             [
              0.5555555555555556,
              "#d8576b"
             ],
             [
              0.6666666666666666,
              "#ed7953"
             ],
             [
              0.7777777777777778,
              "#fb9f3a"
             ],
             [
              0.8888888888888888,
              "#fdca26"
             ],
             [
              1,
              "#f0f921"
             ]
            ],
            "type": "contour"
           }
          ],
          "contourcarpet": [
           {
            "colorbar": {
             "outlinewidth": 0,
             "ticks": ""
            },
            "type": "contourcarpet"
           }
          ],
          "heatmap": [
           {
            "colorbar": {
             "outlinewidth": 0,
             "ticks": ""
            },
            "colorscale": [
             [
              0,
              "#0d0887"
             ],
             [
              0.1111111111111111,
              "#46039f"
             ],
             [
              0.2222222222222222,
              "#7201a8"
             ],
             [
              0.3333333333333333,
              "#9c179e"
             ],
             [
              0.4444444444444444,
              "#bd3786"
             ],
             [
              0.5555555555555556,
              "#d8576b"
             ],
             [
              0.6666666666666666,
              "#ed7953"
             ],
             [
              0.7777777777777778,
              "#fb9f3a"
             ],
             [
              0.8888888888888888,
              "#fdca26"
             ],
             [
              1,
              "#f0f921"
             ]
            ],
            "type": "heatmap"
           }
          ],
          "heatmapgl": [
           {
            "colorbar": {
             "outlinewidth": 0,
             "ticks": ""
            },
            "colorscale": [
             [
              0,
              "#0d0887"
             ],
             [
              0.1111111111111111,
              "#46039f"
             ],
             [
              0.2222222222222222,
              "#7201a8"
             ],
             [
              0.3333333333333333,
              "#9c179e"
             ],
             [
              0.4444444444444444,
              "#bd3786"
             ],
             [
              0.5555555555555556,
              "#d8576b"
             ],
             [
              0.6666666666666666,
              "#ed7953"
             ],
             [
              0.7777777777777778,
              "#fb9f3a"
             ],
             [
              0.8888888888888888,
              "#fdca26"
             ],
             [
              1,
              "#f0f921"
             ]
            ],
            "type": "heatmapgl"
           }
          ],
          "histogram": [
           {
            "marker": {
             "pattern": {
              "fillmode": "overlay",
              "size": 10,
              "solidity": 0.2
             }
            },
            "type": "histogram"
           }
          ],
          "histogram2d": [
           {
            "colorbar": {
             "outlinewidth": 0,
             "ticks": ""
            },
            "colorscale": [
             [
              0,
              "#0d0887"
             ],
             [
              0.1111111111111111,
              "#46039f"
             ],
             [
              0.2222222222222222,
              "#7201a8"
             ],
             [
              0.3333333333333333,
              "#9c179e"
             ],
             [
              0.4444444444444444,
              "#bd3786"
             ],
             [
              0.5555555555555556,
              "#d8576b"
             ],
             [
              0.6666666666666666,
              "#ed7953"
             ],
             [
              0.7777777777777778,
              "#fb9f3a"
             ],
             [
              0.8888888888888888,
              "#fdca26"
             ],
             [
              1,
              "#f0f921"
             ]
            ],
            "type": "histogram2d"
           }
          ],
          "histogram2dcontour": [
           {
            "colorbar": {
             "outlinewidth": 0,
             "ticks": ""
            },
            "colorscale": [
             [
              0,
              "#0d0887"
             ],
             [
              0.1111111111111111,
              "#46039f"
             ],
             [
              0.2222222222222222,
              "#7201a8"
             ],
             [
              0.3333333333333333,
              "#9c179e"
             ],
             [
              0.4444444444444444,
              "#bd3786"
             ],
             [
              0.5555555555555556,
              "#d8576b"
             ],
             [
              0.6666666666666666,
              "#ed7953"
             ],
             [
              0.7777777777777778,
              "#fb9f3a"
             ],
             [
              0.8888888888888888,
              "#fdca26"
             ],
             [
              1,
              "#f0f921"
             ]
            ],
            "type": "histogram2dcontour"
           }
          ],
          "mesh3d": [
           {
            "colorbar": {
             "outlinewidth": 0,
             "ticks": ""
            },
            "type": "mesh3d"
           }
          ],
          "parcoords": [
           {
            "line": {
             "colorbar": {
              "outlinewidth": 0,
              "ticks": ""
             }
            },
            "type": "parcoords"
           }
          ],
          "pie": [
           {
            "automargin": true,
            "type": "pie"
           }
          ],
          "scatter": [
           {
            "marker": {
             "colorbar": {
              "outlinewidth": 0,
              "ticks": ""
             }
            },
            "type": "scatter"
           }
          ],
          "scatter3d": [
           {
            "line": {
             "colorbar": {
              "outlinewidth": 0,
              "ticks": ""
             }
            },
            "marker": {
             "colorbar": {
              "outlinewidth": 0,
              "ticks": ""
             }
            },
            "type": "scatter3d"
           }
          ],
          "scattercarpet": [
           {
            "marker": {
             "colorbar": {
              "outlinewidth": 0,
              "ticks": ""
             }
            },
            "type": "scattercarpet"
           }
          ],
          "scattergeo": [
           {
            "marker": {
             "colorbar": {
              "outlinewidth": 0,
              "ticks": ""
             }
            },
            "type": "scattergeo"
           }
          ],
          "scattergl": [
           {
            "marker": {
             "colorbar": {
              "outlinewidth": 0,
              "ticks": ""
             }
            },
            "type": "scattergl"
           }
          ],
          "scattermapbox": [
           {
            "marker": {
             "colorbar": {
              "outlinewidth": 0,
              "ticks": ""
             }
            },
            "type": "scattermapbox"
           }
          ],
          "scatterpolar": [
           {
            "marker": {
             "colorbar": {
              "outlinewidth": 0,
              "ticks": ""
             }
            },
            "type": "scatterpolar"
           }
          ],
          "scatterpolargl": [
           {
            "marker": {
             "colorbar": {
              "outlinewidth": 0,
              "ticks": ""
             }
            },
            "type": "scatterpolargl"
           }
          ],
          "scatterternary": [
           {
            "marker": {
             "colorbar": {
              "outlinewidth": 0,
              "ticks": ""
             }
            },
            "type": "scatterternary"
           }
          ],
          "surface": [
           {
            "colorbar": {
             "outlinewidth": 0,
             "ticks": ""
            },
            "colorscale": [
             [
              0,
              "#0d0887"
             ],
             [
              0.1111111111111111,
              "#46039f"
             ],
             [
              0.2222222222222222,
              "#7201a8"
             ],
             [
              0.3333333333333333,
              "#9c179e"
             ],
             [
              0.4444444444444444,
              "#bd3786"
             ],
             [
              0.5555555555555556,
              "#d8576b"
             ],
             [
              0.6666666666666666,
              "#ed7953"
             ],
             [
              0.7777777777777778,
              "#fb9f3a"
             ],
             [
              0.8888888888888888,
              "#fdca26"
             ],
             [
              1,
              "#f0f921"
             ]
            ],
            "type": "surface"
           }
          ],
          "table": [
           {
            "cells": {
             "fill": {
              "color": "#EBF0F8"
             },
             "line": {
              "color": "white"
             }
            },
            "header": {
             "fill": {
              "color": "#C8D4E3"
             },
             "line": {
              "color": "white"
             }
            },
            "type": "table"
           }
          ]
         },
         "layout": {
          "annotationdefaults": {
           "arrowcolor": "#2a3f5f",
           "arrowhead": 0,
           "arrowwidth": 1
          },
          "autotypenumbers": "strict",
          "coloraxis": {
           "colorbar": {
            "outlinewidth": 0,
            "ticks": ""
           }
          },
          "colorscale": {
           "diverging": [
            [
             0,
             "#8e0152"
            ],
            [
             0.1,
             "#c51b7d"
            ],
            [
             0.2,
             "#de77ae"
            ],
            [
             0.3,
             "#f1b6da"
            ],
            [
             0.4,
             "#fde0ef"
            ],
            [
             0.5,
             "#f7f7f7"
            ],
            [
             0.6,
             "#e6f5d0"
            ],
            [
             0.7,
             "#b8e186"
            ],
            [
             0.8,
             "#7fbc41"
            ],
            [
             0.9,
             "#4d9221"
            ],
            [
             1,
             "#276419"
            ]
           ],
           "sequential": [
            [
             0,
             "#0d0887"
            ],
            [
             0.1111111111111111,
             "#46039f"
            ],
            [
             0.2222222222222222,
             "#7201a8"
            ],
            [
             0.3333333333333333,
             "#9c179e"
            ],
            [
             0.4444444444444444,
             "#bd3786"
            ],
            [
             0.5555555555555556,
             "#d8576b"
            ],
            [
             0.6666666666666666,
             "#ed7953"
            ],
            [
             0.7777777777777778,
             "#fb9f3a"
            ],
            [
             0.8888888888888888,
             "#fdca26"
            ],
            [
             1,
             "#f0f921"
            ]
           ],
           "sequentialminus": [
            [
             0,
             "#0d0887"
            ],
            [
             0.1111111111111111,
             "#46039f"
            ],
            [
             0.2222222222222222,
             "#7201a8"
            ],
            [
             0.3333333333333333,
             "#9c179e"
            ],
            [
             0.4444444444444444,
             "#bd3786"
            ],
            [
             0.5555555555555556,
             "#d8576b"
            ],
            [
             0.6666666666666666,
             "#ed7953"
            ],
            [
             0.7777777777777778,
             "#fb9f3a"
            ],
            [
             0.8888888888888888,
             "#fdca26"
            ],
            [
             1,
             "#f0f921"
            ]
           ]
          },
          "colorway": [
           "#636efa",
           "#EF553B",
           "#00cc96",
           "#ab63fa",
           "#FFA15A",
           "#19d3f3",
           "#FF6692",
           "#B6E880",
           "#FF97FF",
           "#FECB52"
          ],
          "font": {
           "color": "#2a3f5f"
          },
          "geo": {
           "bgcolor": "white",
           "lakecolor": "white",
           "landcolor": "#E5ECF6",
           "showlakes": true,
           "showland": true,
           "subunitcolor": "white"
          },
          "hoverlabel": {
           "align": "left"
          },
          "hovermode": "closest",
          "mapbox": {
           "style": "light"
          },
          "paper_bgcolor": "white",
          "plot_bgcolor": "#E5ECF6",
          "polar": {
           "angularaxis": {
            "gridcolor": "white",
            "linecolor": "white",
            "ticks": ""
           },
           "bgcolor": "#E5ECF6",
           "radialaxis": {
            "gridcolor": "white",
            "linecolor": "white",
            "ticks": ""
           }
          },
          "scene": {
           "xaxis": {
            "backgroundcolor": "#E5ECF6",
            "gridcolor": "white",
            "gridwidth": 2,
            "linecolor": "white",
            "showbackground": true,
            "ticks": "",
            "zerolinecolor": "white"
           },
           "yaxis": {
            "backgroundcolor": "#E5ECF6",
            "gridcolor": "white",
            "gridwidth": 2,
            "linecolor": "white",
            "showbackground": true,
            "ticks": "",
            "zerolinecolor": "white"
           },
           "zaxis": {
            "backgroundcolor": "#E5ECF6",
            "gridcolor": "white",
            "gridwidth": 2,
            "linecolor": "white",
            "showbackground": true,
            "ticks": "",
            "zerolinecolor": "white"
           }
          },
          "shapedefaults": {
           "line": {
            "color": "#2a3f5f"
           }
          },
          "ternary": {
           "aaxis": {
            "gridcolor": "white",
            "linecolor": "white",
            "ticks": ""
           },
           "baxis": {
            "gridcolor": "white",
            "linecolor": "white",
            "ticks": ""
           },
           "bgcolor": "#E5ECF6",
           "caxis": {
            "gridcolor": "white",
            "linecolor": "white",
            "ticks": ""
           }
          },
          "title": {
           "x": 0.05
          },
          "xaxis": {
           "automargin": true,
           "gridcolor": "white",
           "linecolor": "white",
           "ticks": "",
           "title": {
            "standoff": 15
           },
           "zerolinecolor": "white",
           "zerolinewidth": 2
          },
          "yaxis": {
           "automargin": true,
           "gridcolor": "white",
           "linecolor": "white",
           "ticks": "",
           "title": {
            "standoff": 15
           },
           "zerolinecolor": "white",
           "zerolinewidth": 2
          }
         }
        },
        "title": {
         "text": "Revenue By State And Customer Segment"
        },
        "xaxis": {
         "anchor": "y",
         "domain": [
          0,
          1
         ],
         "tickangle": -45,
         "title": {
          "text": "State"
         }
        },
        "yaxis": {
         "anchor": "x",
         "categoryarray": [
          "Home Office",
          "Corporate",
          "Consumer"
         ],
         "categoryorder": "array",
         "domain": [
          0,
          1
         ],
         "title": {
          "text": "Segment"
         }
        }
       }
      }
     },
     "metadata": {},
     "output_type": "display_data"
    }
   ],
   "source": [
    "# create Bubble Chart \n",
    "fig= px.scatter(segment_revenue_by_state, x='State', y='Segment', size= 'Sales', color='Segment', \n",
    "                hover_name='State', title= 'Revenue By State And Customer Segment', \n",
    "                size_max= 50) \n",
    "fig.update_layout(xaxis_tickangle= -45)\n",
    "fig.show()\n"
   ]
  },
  {
   "cell_type": "markdown",
   "metadata": {},
   "source": [
    "### Customer Demographics: \n",
    "- Consumers are our primary buyers, accounting for 50.6% of total sales. Most of them are located in California, New York, Texas, and Washington State. From 2014 to 2017, their purchases have been primarily in Home Office supplies and Furniture, with lower interest in Technology.\n",
    "- Corporate customers represent 30.7% of total sales, making them the second-largest segment. Their key purchases are in Furniture and Home Office supplies, while interest in Technology has declined over time. They are mainly located in California, New York, Pennsylvania, Texas, and Washington.\n",
    "- Home Offices make up the smallest segment, contributing 17.6% to total sales. Their primary purchases are in Furniture and Technology, with a notable shift in sales trends over the past two years—while Technology sales have increased, Furniture sales have continued to decline. These customers are primarily from California, Florida, New York, and West Virginia."
   ]
  },
  {
   "cell_type": "markdown",
   "metadata": {},
   "source": [
    "### Proposed Sales & Marketing Strategy \n",
    "### Up-sell Strategy For Furniture (Highest Profit Margin)\n",
    "### Push Technology Sales ( High Profit Margin, High Demand)\n",
    "### 1. Consumers: \n",
    "- Currently, they are buying a lot of Home Office & Furniture, but are shifting towards Technology. **Action:** Maintain Furniture sales by bundling it with Technology ( do Market Basket Analysis to suggest sales combo). Instead of high discounts, build loyalt programs with bonus points after order, or free gifts (buy 1 technological device+ voucher for an accessory). Upsell strategies on high-value accessories ( gaming chair, 4K screen)\n",
    "### 2. Corporate: \n",
    "- Decline for Technology **Action** Smart Office Upgrade, free maintainance and installation services + technological solution combos for corporate \n",
    "### 3. Home Office: \n",
    "- "
   ]
  },
  {
   "cell_type": "markdown",
   "metadata": {},
   "source": [
    "### RFM Analysis \n",
    "- Group customer into new segments by RFM metrics (Recency: How long since the last purchase, Frequency: Number Of Orders Within Period Of Time, Monetary: Total Money Spent)\n",
    "- By divide customer into smaller segments, we can target marketing, sales, and loyalty programs more precisely "
   ]
  },
  {
   "cell_type": "code",
   "execution_count": 413,
   "metadata": {},
   "outputs": [
    {
     "name": "stdout",
     "output_type": "stream",
     "text": [
      " The Average Time Since Last Purchase 120 days 06:44:44.330598360\n"
     ]
    },
    {
     "data": {
      "text/plain": [
       "0   338 days\n",
       "1   338 days\n",
       "2    19 days\n",
       "3    29 days\n",
       "4    29 days\n",
       "Name: Recency, dtype: timedelta64[ns]"
      ]
     },
     "execution_count": 413,
     "metadata": {},
     "output_type": "execute_result"
    }
   ],
   "source": [
    "# loc ngay gan nhat cua ca data \n",
    "reference_date= max(df['Order Date'])\n",
    "# loc ngay gan nhat theo tung order ID \n",
    "df['Recency']= reference_date-df.groupby('Customer ID')['Order Date'].transform('max')\n",
    "print(\" The Average Time Since Last Purchase\", df['Recency'].mean())\n",
    "df['Recency'].head()"
   ]
  },
  {
   "cell_type": "code",
   "execution_count": 414,
   "metadata": {},
   "outputs": [
    {
     "data": {
      "text/plain": [
       "0     5\n",
       "1     5\n",
       "2     9\n",
       "3    15\n",
       "4    15\n",
       "Name: Frequency, dtype: int64"
      ]
     },
     "execution_count": 414,
     "metadata": {},
     "output_type": "execute_result"
    }
   ],
   "source": [
    "# calculate freqency= how many purchases they've made\n",
    "df['Frequency']= df.groupby('Customer ID')['Customer ID'].transform('count')\n",
    "df['Frequency'].head()"
   ]
  },
  {
   "cell_type": "code",
   "execution_count": 415,
   "metadata": {},
   "outputs": [
    {
     "data": {
      "text/plain": [
       "0    993.9000\n",
       "1    993.9000\n",
       "2     14.6200\n",
       "3    979.9455\n",
       "4    979.9455\n",
       "Name: Monetary, dtype: float64"
      ]
     },
     "execution_count": 415,
     "metadata": {},
     "output_type": "execute_result"
    }
   ],
   "source": [
    "df['Monetary']= df.groupby('Order ID')['Sales'].transform('sum')\n",
    "df['Monetary'].head()"
   ]
  },
  {
   "cell_type": "markdown",
   "metadata": {},
   "source": [
    "### K-means Clustering"
   ]
  },
  {
   "cell_type": "code",
   "execution_count": 416,
   "metadata": {},
   "outputs": [],
   "source": [
    "from sklearn.cluster import KMeans\n",
    "import seaborn as sns\n",
    "from sklearn.cluster import KMeans\n",
    "from sklearn.preprocessing import PowerTransformer\n",
    "from yellowbrick.cluster import KElbowVisualizer\n",
    "from sklearn.preprocessing import StandardScaler"
   ]
  },
  {
   "cell_type": "code",
   "execution_count": null,
   "metadata": {},
   "outputs": [],
   "source": []
  },
  {
   "cell_type": "code",
   "execution_count": null,
   "metadata": {},
   "outputs": [],
   "source": []
  },
  {
   "cell_type": "code",
   "execution_count": null,
   "metadata": {},
   "outputs": [],
   "source": []
  },
  {
   "cell_type": "markdown",
   "metadata": {},
   "source": []
  }
 ],
 "metadata": {
  "kernelspec": {
   "display_name": "base",
   "language": "python",
   "name": "python3"
  },
  "language_info": {
   "codemirror_mode": {
    "name": "ipython",
    "version": 3
   },
   "file_extension": ".py",
   "mimetype": "text/x-python",
   "name": "python",
   "nbconvert_exporter": "python",
   "pygments_lexer": "ipython3",
   "version": "3.9.12"
  }
 },
 "nbformat": 4,
 "nbformat_minor": 2
}
